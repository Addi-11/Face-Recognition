{
  "nbformat": 4,
  "nbformat_minor": 0,
  "metadata": {
    "colab": {
      "name": "Face_Rec.ipynb",
      "provenance": [],
      "collapsed_sections": [],
      "include_colab_link": true
    },
    "kernelspec": {
      "name": "python3",
      "display_name": "Python 3"
    },
    "language_info": {
      "name": "python"
    },
    "accelerator": "GPU"
  },
  "cells": [
    {
      "cell_type": "markdown",
      "metadata": {
        "id": "view-in-github",
        "colab_type": "text"
      },
      "source": [
        "<a href=\"https://colab.research.google.com/github/Addi-11/Face-Recognition/blob/main/Face_Rec.ipynb\" target=\"_parent\"><img src=\"https://colab.research.google.com/assets/colab-badge.svg\" alt=\"Open In Colab\"/></a>"
      ]
    },
    {
      "cell_type": "code",
      "metadata": {
        "id": "kY6lcBW_QRQd",
        "colab": {
          "base_uri": "https://localhost:8080/"
        },
        "outputId": "86ae9a11-1ec3-4571-c069-77675c031867"
      },
      "source": [
        "from google.colab import drive\n",
        "drive.mount('/content/drive')"
      ],
      "execution_count": null,
      "outputs": [
        {
          "output_type": "stream",
          "text": [
            "Mounted at /content/drive\n"
          ],
          "name": "stdout"
        }
      ]
    },
    {
      "cell_type": "code",
      "metadata": {
        "colab": {
          "base_uri": "https://localhost:8080/"
        },
        "id": "ohoDuib6TbJB",
        "outputId": "5254f7e3-fe4b-4859-ffd2-e00a4b311a16"
      },
      "source": [
        "pip install mtcnn"
      ],
      "execution_count": null,
      "outputs": [
        {
          "output_type": "stream",
          "text": [
            "Collecting mtcnn\n",
            "\u001b[?25l  Downloading https://files.pythonhosted.org/packages/67/43/abee91792797c609c1bf30f1112117f7a87a713ebaa6ec5201d5555a73ef/mtcnn-0.1.0-py3-none-any.whl (2.3MB)\n",
            "\r\u001b[K     |▏                               | 10kB 14.2MB/s eta 0:00:01\r\u001b[K     |▎                               | 20kB 20.3MB/s eta 0:00:01\r\u001b[K     |▍                               | 30kB 18.6MB/s eta 0:00:01\r\u001b[K     |▋                               | 40kB 16.0MB/s eta 0:00:01\r\u001b[K     |▊                               | 51kB 12.6MB/s eta 0:00:01\r\u001b[K     |▉                               | 61kB 9.2MB/s eta 0:00:01\r\u001b[K     |█                               | 71kB 9.9MB/s eta 0:00:01\r\u001b[K     |█▏                              | 81kB 10.1MB/s eta 0:00:01\r\u001b[K     |█▎                              | 92kB 9.8MB/s eta 0:00:01\r\u001b[K     |█▌                              | 102kB 9.7MB/s eta 0:00:01\r\u001b[K     |█▋                              | 112kB 9.7MB/s eta 0:00:01\r\u001b[K     |█▊                              | 122kB 9.7MB/s eta 0:00:01\r\u001b[K     |█▉                              | 133kB 9.7MB/s eta 0:00:01\r\u001b[K     |██                              | 143kB 9.7MB/s eta 0:00:01\r\u001b[K     |██▏                             | 153kB 9.7MB/s eta 0:00:01\r\u001b[K     |██▎                             | 163kB 9.7MB/s eta 0:00:01\r\u001b[K     |██▌                             | 174kB 9.7MB/s eta 0:00:01\r\u001b[K     |██▋                             | 184kB 9.7MB/s eta 0:00:01\r\u001b[K     |██▊                             | 194kB 9.7MB/s eta 0:00:01\r\u001b[K     |███                             | 204kB 9.7MB/s eta 0:00:01\r\u001b[K     |███                             | 215kB 9.7MB/s eta 0:00:01\r\u001b[K     |███▏                            | 225kB 9.7MB/s eta 0:00:01\r\u001b[K     |███▍                            | 235kB 9.7MB/s eta 0:00:01\r\u001b[K     |███▌                            | 245kB 9.7MB/s eta 0:00:01\r\u001b[K     |███▋                            | 256kB 9.7MB/s eta 0:00:01\r\u001b[K     |███▊                            | 266kB 9.7MB/s eta 0:00:01\r\u001b[K     |████                            | 276kB 9.7MB/s eta 0:00:01\r\u001b[K     |████                            | 286kB 9.7MB/s eta 0:00:01\r\u001b[K     |████▏                           | 296kB 9.7MB/s eta 0:00:01\r\u001b[K     |████▍                           | 307kB 9.7MB/s eta 0:00:01\r\u001b[K     |████▌                           | 317kB 9.7MB/s eta 0:00:01\r\u001b[K     |████▋                           | 327kB 9.7MB/s eta 0:00:01\r\u001b[K     |████▉                           | 337kB 9.7MB/s eta 0:00:01\r\u001b[K     |█████                           | 348kB 9.7MB/s eta 0:00:01\r\u001b[K     |█████                           | 358kB 9.7MB/s eta 0:00:01\r\u001b[K     |█████▏                          | 368kB 9.7MB/s eta 0:00:01\r\u001b[K     |█████▍                          | 378kB 9.7MB/s eta 0:00:01\r\u001b[K     |█████▌                          | 389kB 9.7MB/s eta 0:00:01\r\u001b[K     |█████▋                          | 399kB 9.7MB/s eta 0:00:01\r\u001b[K     |█████▉                          | 409kB 9.7MB/s eta 0:00:01\r\u001b[K     |██████                          | 419kB 9.7MB/s eta 0:00:01\r\u001b[K     |██████                          | 430kB 9.7MB/s eta 0:00:01\r\u001b[K     |██████▎                         | 440kB 9.7MB/s eta 0:00:01\r\u001b[K     |██████▍                         | 450kB 9.7MB/s eta 0:00:01\r\u001b[K     |██████▌                         | 460kB 9.7MB/s eta 0:00:01\r\u001b[K     |██████▊                         | 471kB 9.7MB/s eta 0:00:01\r\u001b[K     |██████▉                         | 481kB 9.7MB/s eta 0:00:01\r\u001b[K     |███████                         | 491kB 9.7MB/s eta 0:00:01\r\u001b[K     |███████                         | 501kB 9.7MB/s eta 0:00:01\r\u001b[K     |███████▎                        | 512kB 9.7MB/s eta 0:00:01\r\u001b[K     |███████▍                        | 522kB 9.7MB/s eta 0:00:01\r\u001b[K     |███████▌                        | 532kB 9.7MB/s eta 0:00:01\r\u001b[K     |███████▊                        | 542kB 9.7MB/s eta 0:00:01\r\u001b[K     |███████▉                        | 552kB 9.7MB/s eta 0:00:01\r\u001b[K     |████████                        | 563kB 9.7MB/s eta 0:00:01\r\u001b[K     |████████▏                       | 573kB 9.7MB/s eta 0:00:01\r\u001b[K     |████████▎                       | 583kB 9.7MB/s eta 0:00:01\r\u001b[K     |████████▍                       | 593kB 9.7MB/s eta 0:00:01\r\u001b[K     |████████▌                       | 604kB 9.7MB/s eta 0:00:01\r\u001b[K     |████████▊                       | 614kB 9.7MB/s eta 0:00:01\r\u001b[K     |████████▉                       | 624kB 9.7MB/s eta 0:00:01\r\u001b[K     |█████████                       | 634kB 9.7MB/s eta 0:00:01\r\u001b[K     |█████████▏                      | 645kB 9.7MB/s eta 0:00:01\r\u001b[K     |█████████▎                      | 655kB 9.7MB/s eta 0:00:01\r\u001b[K     |█████████▍                      | 665kB 9.7MB/s eta 0:00:01\r\u001b[K     |█████████▋                      | 675kB 9.7MB/s eta 0:00:01\r\u001b[K     |█████████▊                      | 686kB 9.7MB/s eta 0:00:01\r\u001b[K     |█████████▉                      | 696kB 9.7MB/s eta 0:00:01\r\u001b[K     |██████████                      | 706kB 9.7MB/s eta 0:00:01\r\u001b[K     |██████████▏                     | 716kB 9.7MB/s eta 0:00:01\r\u001b[K     |██████████▎                     | 727kB 9.7MB/s eta 0:00:01\r\u001b[K     |██████████▍                     | 737kB 9.7MB/s eta 0:00:01\r\u001b[K     |██████████▋                     | 747kB 9.7MB/s eta 0:00:01\r\u001b[K     |██████████▊                     | 757kB 9.7MB/s eta 0:00:01\r\u001b[K     |██████████▉                     | 768kB 9.7MB/s eta 0:00:01\r\u001b[K     |███████████                     | 778kB 9.7MB/s eta 0:00:01\r\u001b[K     |███████████▏                    | 788kB 9.7MB/s eta 0:00:01\r\u001b[K     |███████████▎                    | 798kB 9.7MB/s eta 0:00:01\r\u001b[K     |███████████▌                    | 808kB 9.7MB/s eta 0:00:01\r\u001b[K     |███████████▋                    | 819kB 9.7MB/s eta 0:00:01\r\u001b[K     |███████████▊                    | 829kB 9.7MB/s eta 0:00:01\r\u001b[K     |███████████▉                    | 839kB 9.7MB/s eta 0:00:01\r\u001b[K     |████████████                    | 849kB 9.7MB/s eta 0:00:01\r\u001b[K     |████████████▏                   | 860kB 9.7MB/s eta 0:00:01\r\u001b[K     |████████████▎                   | 870kB 9.7MB/s eta 0:00:01\r\u001b[K     |████████████▌                   | 880kB 9.7MB/s eta 0:00:01\r\u001b[K     |████████████▋                   | 890kB 9.7MB/s eta 0:00:01\r\u001b[K     |████████████▊                   | 901kB 9.7MB/s eta 0:00:01\r\u001b[K     |█████████████                   | 911kB 9.7MB/s eta 0:00:01\r\u001b[K     |█████████████                   | 921kB 9.7MB/s eta 0:00:01\r\u001b[K     |█████████████▏                  | 931kB 9.7MB/s eta 0:00:01\r\u001b[K     |█████████████▍                  | 942kB 9.7MB/s eta 0:00:01\r\u001b[K     |█████████████▌                  | 952kB 9.7MB/s eta 0:00:01\r\u001b[K     |█████████████▋                  | 962kB 9.7MB/s eta 0:00:01\r\u001b[K     |█████████████▊                  | 972kB 9.7MB/s eta 0:00:01\r\u001b[K     |██████████████                  | 983kB 9.7MB/s eta 0:00:01\r\u001b[K     |██████████████                  | 993kB 9.7MB/s eta 0:00:01\r\u001b[K     |██████████████▏                 | 1.0MB 9.7MB/s eta 0:00:01\r\u001b[K     |██████████████▍                 | 1.0MB 9.7MB/s eta 0:00:01\r\u001b[K     |██████████████▌                 | 1.0MB 9.7MB/s eta 0:00:01\r\u001b[K     |██████████████▋                 | 1.0MB 9.7MB/s eta 0:00:01\r\u001b[K     |██████████████▉                 | 1.0MB 9.7MB/s eta 0:00:01\r\u001b[K     |███████████████                 | 1.1MB 9.7MB/s eta 0:00:01\r\u001b[K     |███████████████                 | 1.1MB 9.7MB/s eta 0:00:01\r\u001b[K     |███████████████▏                | 1.1MB 9.7MB/s eta 0:00:01\r\u001b[K     |███████████████▍                | 1.1MB 9.7MB/s eta 0:00:01\r\u001b[K     |███████████████▌                | 1.1MB 9.7MB/s eta 0:00:01\r\u001b[K     |███████████████▋                | 1.1MB 9.7MB/s eta 0:00:01\r\u001b[K     |███████████████▉                | 1.1MB 9.7MB/s eta 0:00:01\r\u001b[K     |████████████████                | 1.1MB 9.7MB/s eta 0:00:01\r\u001b[K     |████████████████                | 1.1MB 9.7MB/s eta 0:00:01\r\u001b[K     |████████████████▎               | 1.1MB 9.7MB/s eta 0:00:01\r\u001b[K     |████████████████▍               | 1.2MB 9.7MB/s eta 0:00:01\r\u001b[K     |████████████████▌               | 1.2MB 9.7MB/s eta 0:00:01\r\u001b[K     |████████████████▊               | 1.2MB 9.7MB/s eta 0:00:01\r\u001b[K     |████████████████▉               | 1.2MB 9.7MB/s eta 0:00:01\r\u001b[K     |█████████████████               | 1.2MB 9.7MB/s eta 0:00:01\r\u001b[K     |█████████████████               | 1.2MB 9.7MB/s eta 0:00:01\r\u001b[K     |█████████████████▎              | 1.2MB 9.7MB/s eta 0:00:01\r\u001b[K     |█████████████████▍              | 1.2MB 9.7MB/s eta 0:00:01\r\u001b[K     |█████████████████▌              | 1.2MB 9.7MB/s eta 0:00:01\r\u001b[K     |█████████████████▊              | 1.2MB 9.7MB/s eta 0:00:01\r\u001b[K     |█████████████████▉              | 1.3MB 9.7MB/s eta 0:00:01\r\u001b[K     |██████████████████              | 1.3MB 9.7MB/s eta 0:00:01\r\u001b[K     |██████████████████▏             | 1.3MB 9.7MB/s eta 0:00:01\r\u001b[K     |██████████████████▎             | 1.3MB 9.7MB/s eta 0:00:01\r\u001b[K     |██████████████████▍             | 1.3MB 9.7MB/s eta 0:00:01\r\u001b[K     |██████████████████▋             | 1.3MB 9.7MB/s eta 0:00:01\r\u001b[K     |██████████████████▊             | 1.3MB 9.7MB/s eta 0:00:01\r\u001b[K     |██████████████████▉             | 1.3MB 9.7MB/s eta 0:00:01\r\u001b[K     |███████████████████             | 1.3MB 9.7MB/s eta 0:00:01\r\u001b[K     |███████████████████▏            | 1.4MB 9.7MB/s eta 0:00:01\r\u001b[K     |███████████████████▎            | 1.4MB 9.7MB/s eta 0:00:01\r\u001b[K     |███████████████████▍            | 1.4MB 9.7MB/s eta 0:00:01\r\u001b[K     |███████████████████▋            | 1.4MB 9.7MB/s eta 0:00:01\r\u001b[K     |███████████████████▊            | 1.4MB 9.7MB/s eta 0:00:01\r\u001b[K     |███████████████████▉            | 1.4MB 9.7MB/s eta 0:00:01\r\u001b[K     |████████████████████            | 1.4MB 9.7MB/s eta 0:00:01\r\u001b[K     |████████████████████▏           | 1.4MB 9.7MB/s eta 0:00:01\r\u001b[K     |████████████████████▎           | 1.4MB 9.7MB/s eta 0:00:01\r\u001b[K     |████████████████████▍           | 1.4MB 9.7MB/s eta 0:00:01\r\u001b[K     |████████████████████▋           | 1.5MB 9.7MB/s eta 0:00:01\r\u001b[K     |████████████████████▊           | 1.5MB 9.7MB/s eta 0:00:01\r\u001b[K     |████████████████████▉           | 1.5MB 9.7MB/s eta 0:00:01\r\u001b[K     |█████████████████████           | 1.5MB 9.7MB/s eta 0:00:01\r\u001b[K     |█████████████████████▏          | 1.5MB 9.7MB/s eta 0:00:01\r\u001b[K     |█████████████████████▎          | 1.5MB 9.7MB/s eta 0:00:01\r\u001b[K     |█████████████████████▌          | 1.5MB 9.7MB/s eta 0:00:01\r\u001b[K     |█████████████████████▋          | 1.5MB 9.7MB/s eta 0:00:01\r\u001b[K     |█████████████████████▊          | 1.5MB 9.7MB/s eta 0:00:01\r\u001b[K     |██████████████████████          | 1.5MB 9.7MB/s eta 0:00:01\r\u001b[K     |██████████████████████          | 1.6MB 9.7MB/s eta 0:00:01\r\u001b[K     |██████████████████████▏         | 1.6MB 9.7MB/s eta 0:00:01\r\u001b[K     |██████████████████████▎         | 1.6MB 9.7MB/s eta 0:00:01\r\u001b[K     |██████████████████████▌         | 1.6MB 9.7MB/s eta 0:00:01\r\u001b[K     |██████████████████████▋         | 1.6MB 9.7MB/s eta 0:00:01\r\u001b[K     |██████████████████████▊         | 1.6MB 9.7MB/s eta 0:00:01\r\u001b[K     |███████████████████████         | 1.6MB 9.7MB/s eta 0:00:01\r\u001b[K     |███████████████████████         | 1.6MB 9.7MB/s eta 0:00:01\r\u001b[K     |███████████████████████▏        | 1.6MB 9.7MB/s eta 0:00:01\r\u001b[K     |███████████████████████▍        | 1.6MB 9.7MB/s eta 0:00:01\r\u001b[K     |███████████████████████▌        | 1.7MB 9.7MB/s eta 0:00:01\r\u001b[K     |███████████████████████▋        | 1.7MB 9.7MB/s eta 0:00:01\r\u001b[K     |███████████████████████▊        | 1.7MB 9.7MB/s eta 0:00:01\r\u001b[K     |████████████████████████        | 1.7MB 9.7MB/s eta 0:00:01\r\u001b[K     |████████████████████████        | 1.7MB 9.7MB/s eta 0:00:01\r\u001b[K     |████████████████████████▏       | 1.7MB 9.7MB/s eta 0:00:01\r\u001b[K     |████████████████████████▍       | 1.7MB 9.7MB/s eta 0:00:01\r\u001b[K     |████████████████████████▌       | 1.7MB 9.7MB/s eta 0:00:01\r\u001b[K     |████████████████████████▋       | 1.7MB 9.7MB/s eta 0:00:01\r\u001b[K     |████████████████████████▉       | 1.8MB 9.7MB/s eta 0:00:01\r\u001b[K     |█████████████████████████       | 1.8MB 9.7MB/s eta 0:00:01\r\u001b[K     |█████████████████████████       | 1.8MB 9.7MB/s eta 0:00:01\r\u001b[K     |█████████████████████████▎      | 1.8MB 9.7MB/s eta 0:00:01\r\u001b[K     |█████████████████████████▍      | 1.8MB 9.7MB/s eta 0:00:01\r\u001b[K     |█████████████████████████▌      | 1.8MB 9.7MB/s eta 0:00:01\r\u001b[K     |█████████████████████████▋      | 1.8MB 9.7MB/s eta 0:00:01\r\u001b[K     |█████████████████████████▉      | 1.8MB 9.7MB/s eta 0:00:01\r\u001b[K     |██████████████████████████      | 1.8MB 9.7MB/s eta 0:00:01\r\u001b[K     |██████████████████████████      | 1.8MB 9.7MB/s eta 0:00:01\r\u001b[K     |██████████████████████████▎     | 1.9MB 9.7MB/s eta 0:00:01\r\u001b[K     |██████████████████████████▍     | 1.9MB 9.7MB/s eta 0:00:01\r\u001b[K     |██████████████████████████▌     | 1.9MB 9.7MB/s eta 0:00:01\r\u001b[K     |██████████████████████████▊     | 1.9MB 9.7MB/s eta 0:00:01\r\u001b[K     |██████████████████████████▉     | 1.9MB 9.7MB/s eta 0:00:01\r\u001b[K     |███████████████████████████     | 1.9MB 9.7MB/s eta 0:00:01\r\u001b[K     |███████████████████████████     | 1.9MB 9.7MB/s eta 0:00:01\r\u001b[K     |███████████████████████████▎    | 1.9MB 9.7MB/s eta 0:00:01\r\u001b[K     |███████████████████████████▍    | 1.9MB 9.7MB/s eta 0:00:01\r\u001b[K     |███████████████████████████▌    | 1.9MB 9.7MB/s eta 0:00:01\r\u001b[K     |███████████████████████████▊    | 2.0MB 9.7MB/s eta 0:00:01\r\u001b[K     |███████████████████████████▉    | 2.0MB 9.7MB/s eta 0:00:01\r\u001b[K     |████████████████████████████    | 2.0MB 9.7MB/s eta 0:00:01\r\u001b[K     |████████████████████████████▏   | 2.0MB 9.7MB/s eta 0:00:01\r\u001b[K     |████████████████████████████▎   | 2.0MB 9.7MB/s eta 0:00:01\r\u001b[K     |████████████████████████████▍   | 2.0MB 9.7MB/s eta 0:00:01\r\u001b[K     |████████████████████████████▋   | 2.0MB 9.7MB/s eta 0:00:01\r\u001b[K     |████████████████████████████▊   | 2.0MB 9.7MB/s eta 0:00:01\r\u001b[K     |████████████████████████████▉   | 2.0MB 9.7MB/s eta 0:00:01\r\u001b[K     |█████████████████████████████   | 2.0MB 9.7MB/s eta 0:00:01\r\u001b[K     |█████████████████████████████▏  | 2.1MB 9.7MB/s eta 0:00:01\r\u001b[K     |█████████████████████████████▎  | 2.1MB 9.7MB/s eta 0:00:01\r\u001b[K     |█████████████████████████████▍  | 2.1MB 9.7MB/s eta 0:00:01\r\u001b[K     |█████████████████████████████▋  | 2.1MB 9.7MB/s eta 0:00:01\r\u001b[K     |█████████████████████████████▊  | 2.1MB 9.7MB/s eta 0:00:01\r\u001b[K     |█████████████████████████████▉  | 2.1MB 9.7MB/s eta 0:00:01\r\u001b[K     |██████████████████████████████  | 2.1MB 9.7MB/s eta 0:00:01\r\u001b[K     |██████████████████████████████▏ | 2.1MB 9.7MB/s eta 0:00:01\r\u001b[K     |██████████████████████████████▎ | 2.1MB 9.7MB/s eta 0:00:01\r\u001b[K     |██████████████████████████████▍ | 2.2MB 9.7MB/s eta 0:00:01\r\u001b[K     |██████████████████████████████▋ | 2.2MB 9.7MB/s eta 0:00:01\r\u001b[K     |██████████████████████████████▊ | 2.2MB 9.7MB/s eta 0:00:01\r\u001b[K     |██████████████████████████████▉ | 2.2MB 9.7MB/s eta 0:00:01\r\u001b[K     |███████████████████████████████ | 2.2MB 9.7MB/s eta 0:00:01\r\u001b[K     |███████████████████████████████▏| 2.2MB 9.7MB/s eta 0:00:01\r\u001b[K     |███████████████████████████████▎| 2.2MB 9.7MB/s eta 0:00:01\r\u001b[K     |███████████████████████████████▌| 2.2MB 9.7MB/s eta 0:00:01\r\u001b[K     |███████████████████████████████▋| 2.2MB 9.7MB/s eta 0:00:01\r\u001b[K     |███████████████████████████████▊| 2.2MB 9.7MB/s eta 0:00:01\r\u001b[K     |████████████████████████████████| 2.3MB 9.7MB/s eta 0:00:01\r\u001b[K     |████████████████████████████████| 2.3MB 9.7MB/s \n",
            "\u001b[?25hRequirement already satisfied: keras>=2.0.0 in /usr/local/lib/python3.7/dist-packages (from mtcnn) (2.4.3)\n",
            "Requirement already satisfied: opencv-python>=4.1.0 in /usr/local/lib/python3.7/dist-packages (from mtcnn) (4.1.2.30)\n",
            "Requirement already satisfied: h5py in /usr/local/lib/python3.7/dist-packages (from keras>=2.0.0->mtcnn) (2.10.0)\n",
            "Requirement already satisfied: numpy>=1.9.1 in /usr/local/lib/python3.7/dist-packages (from keras>=2.0.0->mtcnn) (1.19.5)\n",
            "Requirement already satisfied: pyyaml in /usr/local/lib/python3.7/dist-packages (from keras>=2.0.0->mtcnn) (3.13)\n",
            "Requirement already satisfied: scipy>=0.14 in /usr/local/lib/python3.7/dist-packages (from keras>=2.0.0->mtcnn) (1.4.1)\n",
            "Requirement already satisfied: six in /usr/local/lib/python3.7/dist-packages (from h5py->keras>=2.0.0->mtcnn) (1.15.0)\n",
            "Installing collected packages: mtcnn\n",
            "Successfully installed mtcnn-0.1.0\n"
          ],
          "name": "stdout"
        }
      ]
    },
    {
      "cell_type": "code",
      "metadata": {
        "colab": {
          "base_uri": "https://localhost:8080/"
        },
        "id": "eWehaiO3AJUv",
        "outputId": "fc99358e-2e47-44b1-dec3-868e3d92fcae"
      },
      "source": [
        "!pip install facenet_pytorch"
      ],
      "execution_count": null,
      "outputs": [
        {
          "output_type": "stream",
          "text": [
            "Collecting facenet_pytorch\n",
            "\u001b[?25l  Downloading https://files.pythonhosted.org/packages/18/e8/5ea742737665ba9396a8a2be3d2e2b49a13804b56a7e7bb101e8731ade8f/facenet_pytorch-2.5.2-py3-none-any.whl (1.9MB)\n",
            "\r\u001b[K     |▏                               | 10kB 14.6MB/s eta 0:00:01\r\u001b[K     |▍                               | 20kB 19.9MB/s eta 0:00:01\r\u001b[K     |▌                               | 30kB 18.2MB/s eta 0:00:01\r\u001b[K     |▊                               | 40kB 15.4MB/s eta 0:00:01\r\u001b[K     |▉                               | 51kB 12.8MB/s eta 0:00:01\r\u001b[K     |█                               | 61kB 10.5MB/s eta 0:00:01\r\u001b[K     |█▏                              | 71kB 10.9MB/s eta 0:00:01\r\u001b[K     |█▍                              | 81kB 11.6MB/s eta 0:00:01\r\u001b[K     |█▋                              | 92kB 12.3MB/s eta 0:00:01\r\u001b[K     |█▊                              | 102kB 11.7MB/s eta 0:00:01\r\u001b[K     |██                              | 112kB 11.7MB/s eta 0:00:01\r\u001b[K     |██                              | 122kB 11.7MB/s eta 0:00:01\r\u001b[K     |██▎                             | 133kB 11.7MB/s eta 0:00:01\r\u001b[K     |██▍                             | 143kB 11.7MB/s eta 0:00:01\r\u001b[K     |██▋                             | 153kB 11.7MB/s eta 0:00:01\r\u001b[K     |██▉                             | 163kB 11.7MB/s eta 0:00:01\r\u001b[K     |███                             | 174kB 11.7MB/s eta 0:00:01\r\u001b[K     |███▏                            | 184kB 11.7MB/s eta 0:00:01\r\u001b[K     |███▎                            | 194kB 11.7MB/s eta 0:00:01\r\u001b[K     |███▌                            | 204kB 11.7MB/s eta 0:00:01\r\u001b[K     |███▋                            | 215kB 11.7MB/s eta 0:00:01\r\u001b[K     |███▉                            | 225kB 11.7MB/s eta 0:00:01\r\u001b[K     |████                            | 235kB 11.7MB/s eta 0:00:01\r\u001b[K     |████▏                           | 245kB 11.7MB/s eta 0:00:01\r\u001b[K     |████▍                           | 256kB 11.7MB/s eta 0:00:01\r\u001b[K     |████▌                           | 266kB 11.7MB/s eta 0:00:01\r\u001b[K     |████▊                           | 276kB 11.7MB/s eta 0:00:01\r\u001b[K     |████▉                           | 286kB 11.7MB/s eta 0:00:01\r\u001b[K     |█████                           | 296kB 11.7MB/s eta 0:00:01\r\u001b[K     |█████▏                          | 307kB 11.7MB/s eta 0:00:01\r\u001b[K     |█████▍                          | 317kB 11.7MB/s eta 0:00:01\r\u001b[K     |█████▋                          | 327kB 11.7MB/s eta 0:00:01\r\u001b[K     |█████▊                          | 337kB 11.7MB/s eta 0:00:01\r\u001b[K     |██████                          | 348kB 11.7MB/s eta 0:00:01\r\u001b[K     |██████                          | 358kB 11.7MB/s eta 0:00:01\r\u001b[K     |██████▎                         | 368kB 11.7MB/s eta 0:00:01\r\u001b[K     |██████▍                         | 378kB 11.7MB/s eta 0:00:01\r\u001b[K     |██████▋                         | 389kB 11.7MB/s eta 0:00:01\r\u001b[K     |██████▉                         | 399kB 11.7MB/s eta 0:00:01\r\u001b[K     |███████                         | 409kB 11.7MB/s eta 0:00:01\r\u001b[K     |███████▏                        | 419kB 11.7MB/s eta 0:00:01\r\u001b[K     |███████▎                        | 430kB 11.7MB/s eta 0:00:01\r\u001b[K     |███████▌                        | 440kB 11.7MB/s eta 0:00:01\r\u001b[K     |███████▋                        | 450kB 11.7MB/s eta 0:00:01\r\u001b[K     |███████▉                        | 460kB 11.7MB/s eta 0:00:01\r\u001b[K     |████████                        | 471kB 11.7MB/s eta 0:00:01\r\u001b[K     |████████▏                       | 481kB 11.7MB/s eta 0:00:01\r\u001b[K     |████████▍                       | 491kB 11.7MB/s eta 0:00:01\r\u001b[K     |████████▌                       | 501kB 11.7MB/s eta 0:00:01\r\u001b[K     |████████▊                       | 512kB 11.7MB/s eta 0:00:01\r\u001b[K     |████████▉                       | 522kB 11.7MB/s eta 0:00:01\r\u001b[K     |█████████                       | 532kB 11.7MB/s eta 0:00:01\r\u001b[K     |█████████▎                      | 542kB 11.7MB/s eta 0:00:01\r\u001b[K     |█████████▍                      | 552kB 11.7MB/s eta 0:00:01\r\u001b[K     |█████████▋                      | 563kB 11.7MB/s eta 0:00:01\r\u001b[K     |█████████▊                      | 573kB 11.7MB/s eta 0:00:01\r\u001b[K     |██████████                      | 583kB 11.7MB/s eta 0:00:01\r\u001b[K     |██████████                      | 593kB 11.7MB/s eta 0:00:01\r\u001b[K     |██████████▎                     | 604kB 11.7MB/s eta 0:00:01\r\u001b[K     |██████████▍                     | 614kB 11.7MB/s eta 0:00:01\r\u001b[K     |██████████▋                     | 624kB 11.7MB/s eta 0:00:01\r\u001b[K     |██████████▉                     | 634kB 11.7MB/s eta 0:00:01\r\u001b[K     |███████████                     | 645kB 11.7MB/s eta 0:00:01\r\u001b[K     |███████████▏                    | 655kB 11.7MB/s eta 0:00:01\r\u001b[K     |███████████▎                    | 665kB 11.7MB/s eta 0:00:01\r\u001b[K     |███████████▌                    | 675kB 11.7MB/s eta 0:00:01\r\u001b[K     |███████████▋                    | 686kB 11.7MB/s eta 0:00:01\r\u001b[K     |███████████▉                    | 696kB 11.7MB/s eta 0:00:01\r\u001b[K     |████████████                    | 706kB 11.7MB/s eta 0:00:01\r\u001b[K     |████████████▏                   | 716kB 11.7MB/s eta 0:00:01\r\u001b[K     |████████████▍                   | 727kB 11.7MB/s eta 0:00:01\r\u001b[K     |████████████▌                   | 737kB 11.7MB/s eta 0:00:01\r\u001b[K     |████████████▊                   | 747kB 11.7MB/s eta 0:00:01\r\u001b[K     |████████████▉                   | 757kB 11.7MB/s eta 0:00:01\r\u001b[K     |█████████████                   | 768kB 11.7MB/s eta 0:00:01\r\u001b[K     |█████████████▎                  | 778kB 11.7MB/s eta 0:00:01\r\u001b[K     |█████████████▍                  | 788kB 11.7MB/s eta 0:00:01\r\u001b[K     |█████████████▋                  | 798kB 11.7MB/s eta 0:00:01\r\u001b[K     |█████████████▊                  | 808kB 11.7MB/s eta 0:00:01\r\u001b[K     |██████████████                  | 819kB 11.7MB/s eta 0:00:01\r\u001b[K     |██████████████                  | 829kB 11.7MB/s eta 0:00:01\r\u001b[K     |██████████████▎                 | 839kB 11.7MB/s eta 0:00:01\r\u001b[K     |██████████████▌                 | 849kB 11.7MB/s eta 0:00:01\r\u001b[K     |██████████████▋                 | 860kB 11.7MB/s eta 0:00:01\r\u001b[K     |██████████████▉                 | 870kB 11.7MB/s eta 0:00:01\r\u001b[K     |███████████████                 | 880kB 11.7MB/s eta 0:00:01\r\u001b[K     |███████████████▏                | 890kB 11.7MB/s eta 0:00:01\r\u001b[K     |███████████████▎                | 901kB 11.7MB/s eta 0:00:01\r\u001b[K     |███████████████▌                | 911kB 11.7MB/s eta 0:00:01\r\u001b[K     |███████████████▋                | 921kB 11.7MB/s eta 0:00:01\r\u001b[K     |███████████████▉                | 931kB 11.7MB/s eta 0:00:01\r\u001b[K     |████████████████                | 942kB 11.7MB/s eta 0:00:01\r\u001b[K     |████████████████▏               | 952kB 11.7MB/s eta 0:00:01\r\u001b[K     |████████████████▍               | 962kB 11.7MB/s eta 0:00:01\r\u001b[K     |████████████████▌               | 972kB 11.7MB/s eta 0:00:01\r\u001b[K     |████████████████▊               | 983kB 11.7MB/s eta 0:00:01\r\u001b[K     |████████████████▉               | 993kB 11.7MB/s eta 0:00:01\r\u001b[K     |█████████████████               | 1.0MB 11.7MB/s eta 0:00:01\r\u001b[K     |█████████████████▎              | 1.0MB 11.7MB/s eta 0:00:01\r\u001b[K     |█████████████████▍              | 1.0MB 11.7MB/s eta 0:00:01\r\u001b[K     |█████████████████▋              | 1.0MB 11.7MB/s eta 0:00:01\r\u001b[K     |█████████████████▊              | 1.0MB 11.7MB/s eta 0:00:01\r\u001b[K     |██████████████████              | 1.1MB 11.7MB/s eta 0:00:01\r\u001b[K     |██████████████████              | 1.1MB 11.7MB/s eta 0:00:01\r\u001b[K     |██████████████████▎             | 1.1MB 11.7MB/s eta 0:00:01\r\u001b[K     |██████████████████▌             | 1.1MB 11.7MB/s eta 0:00:01\r\u001b[K     |██████████████████▋             | 1.1MB 11.7MB/s eta 0:00:01\r\u001b[K     |██████████████████▉             | 1.1MB 11.7MB/s eta 0:00:01\r\u001b[K     |███████████████████             | 1.1MB 11.7MB/s eta 0:00:01\r\u001b[K     |███████████████████▏            | 1.1MB 11.7MB/s eta 0:00:01\r\u001b[K     |███████████████████▎            | 1.1MB 11.7MB/s eta 0:00:01\r\u001b[K     |███████████████████▌            | 1.1MB 11.7MB/s eta 0:00:01\r\u001b[K     |███████████████████▋            | 1.2MB 11.7MB/s eta 0:00:01\r\u001b[K     |███████████████████▉            | 1.2MB 11.7MB/s eta 0:00:01\r\u001b[K     |████████████████████            | 1.2MB 11.7MB/s eta 0:00:01\r\u001b[K     |████████████████████▏           | 1.2MB 11.7MB/s eta 0:00:01\r\u001b[K     |████████████████████▍           | 1.2MB 11.7MB/s eta 0:00:01\r\u001b[K     |████████████████████▌           | 1.2MB 11.7MB/s eta 0:00:01\r\u001b[K     |████████████████████▊           | 1.2MB 11.7MB/s eta 0:00:01\r\u001b[K     |████████████████████▉           | 1.2MB 11.7MB/s eta 0:00:01\r\u001b[K     |█████████████████████           | 1.2MB 11.7MB/s eta 0:00:01\r\u001b[K     |█████████████████████▎          | 1.2MB 11.7MB/s eta 0:00:01\r\u001b[K     |█████████████████████▍          | 1.3MB 11.7MB/s eta 0:00:01\r\u001b[K     |█████████████████████▋          | 1.3MB 11.7MB/s eta 0:00:01\r\u001b[K     |█████████████████████▊          | 1.3MB 11.7MB/s eta 0:00:01\r\u001b[K     |██████████████████████          | 1.3MB 11.7MB/s eta 0:00:01\r\u001b[K     |██████████████████████          | 1.3MB 11.7MB/s eta 0:00:01\r\u001b[K     |██████████████████████▎         | 1.3MB 11.7MB/s eta 0:00:01\r\u001b[K     |██████████████████████▌         | 1.3MB 11.7MB/s eta 0:00:01\r\u001b[K     |██████████████████████▋         | 1.3MB 11.7MB/s eta 0:00:01\r\u001b[K     |██████████████████████▉         | 1.3MB 11.7MB/s eta 0:00:01\r\u001b[K     |███████████████████████         | 1.4MB 11.7MB/s eta 0:00:01\r\u001b[K     |███████████████████████▏        | 1.4MB 11.7MB/s eta 0:00:01\r\u001b[K     |███████████████████████▎        | 1.4MB 11.7MB/s eta 0:00:01\r\u001b[K     |███████████████████████▌        | 1.4MB 11.7MB/s eta 0:00:01\r\u001b[K     |███████████████████████▊        | 1.4MB 11.7MB/s eta 0:00:01\r\u001b[K     |███████████████████████▉        | 1.4MB 11.7MB/s eta 0:00:01\r\u001b[K     |████████████████████████        | 1.4MB 11.7MB/s eta 0:00:01\r\u001b[K     |████████████████████████▏       | 1.4MB 11.7MB/s eta 0:00:01\r\u001b[K     |████████████████████████▍       | 1.4MB 11.7MB/s eta 0:00:01\r\u001b[K     |████████████████████████▌       | 1.4MB 11.7MB/s eta 0:00:01\r\u001b[K     |████████████████████████▊       | 1.5MB 11.7MB/s eta 0:00:01\r\u001b[K     |████████████████████████▉       | 1.5MB 11.7MB/s eta 0:00:01\r\u001b[K     |█████████████████████████       | 1.5MB 11.7MB/s eta 0:00:01\r\u001b[K     |█████████████████████████▎      | 1.5MB 11.7MB/s eta 0:00:01\r\u001b[K     |█████████████████████████▍      | 1.5MB 11.7MB/s eta 0:00:01\r\u001b[K     |█████████████████████████▋      | 1.5MB 11.7MB/s eta 0:00:01\r\u001b[K     |█████████████████████████▊      | 1.5MB 11.7MB/s eta 0:00:01\r\u001b[K     |██████████████████████████      | 1.5MB 11.7MB/s eta 0:00:01\r\u001b[K     |██████████████████████████      | 1.5MB 11.7MB/s eta 0:00:01\r\u001b[K     |██████████████████████████▎     | 1.5MB 11.7MB/s eta 0:00:01\r\u001b[K     |██████████████████████████▌     | 1.6MB 11.7MB/s eta 0:00:01\r\u001b[K     |██████████████████████████▋     | 1.6MB 11.7MB/s eta 0:00:01\r\u001b[K     |██████████████████████████▉     | 1.6MB 11.7MB/s eta 0:00:01\r\u001b[K     |███████████████████████████     | 1.6MB 11.7MB/s eta 0:00:01\r\u001b[K     |███████████████████████████▏    | 1.6MB 11.7MB/s eta 0:00:01\r\u001b[K     |███████████████████████████▎    | 1.6MB 11.7MB/s eta 0:00:01\r\u001b[K     |███████████████████████████▌    | 1.6MB 11.7MB/s eta 0:00:01\r\u001b[K     |███████████████████████████▊    | 1.6MB 11.7MB/s eta 0:00:01\r\u001b[K     |███████████████████████████▉    | 1.6MB 11.7MB/s eta 0:00:01\r\u001b[K     |████████████████████████████    | 1.6MB 11.7MB/s eta 0:00:01\r\u001b[K     |████████████████████████████▏   | 1.7MB 11.7MB/s eta 0:00:01\r\u001b[K     |████████████████████████████▍   | 1.7MB 11.7MB/s eta 0:00:01\r\u001b[K     |████████████████████████████▌   | 1.7MB 11.7MB/s eta 0:00:01\r\u001b[K     |████████████████████████████▊   | 1.7MB 11.7MB/s eta 0:00:01\r\u001b[K     |█████████████████████████████   | 1.7MB 11.7MB/s eta 0:00:01\r\u001b[K     |█████████████████████████████   | 1.7MB 11.7MB/s eta 0:00:01\r\u001b[K     |█████████████████████████████▎  | 1.7MB 11.7MB/s eta 0:00:01\r\u001b[K     |█████████████████████████████▍  | 1.7MB 11.7MB/s eta 0:00:01\r\u001b[K     |█████████████████████████████▋  | 1.7MB 11.7MB/s eta 0:00:01\r\u001b[K     |█████████████████████████████▊  | 1.8MB 11.7MB/s eta 0:00:01\r\u001b[K     |██████████████████████████████  | 1.8MB 11.7MB/s eta 0:00:01\r\u001b[K     |██████████████████████████████  | 1.8MB 11.7MB/s eta 0:00:01\r\u001b[K     |██████████████████████████████▎ | 1.8MB 11.7MB/s eta 0:00:01\r\u001b[K     |██████████████████████████████▌ | 1.8MB 11.7MB/s eta 0:00:01\r\u001b[K     |██████████████████████████████▋ | 1.8MB 11.7MB/s eta 0:00:01\r\u001b[K     |██████████████████████████████▉ | 1.8MB 11.7MB/s eta 0:00:01\r\u001b[K     |███████████████████████████████ | 1.8MB 11.7MB/s eta 0:00:01\r\u001b[K     |███████████████████████████████▏| 1.8MB 11.7MB/s eta 0:00:01\r\u001b[K     |███████████████████████████████▎| 1.8MB 11.7MB/s eta 0:00:01\r\u001b[K     |███████████████████████████████▌| 1.9MB 11.7MB/s eta 0:00:01\r\u001b[K     |███████████████████████████████▊| 1.9MB 11.7MB/s eta 0:00:01\r\u001b[K     |███████████████████████████████▉| 1.9MB 11.7MB/s eta 0:00:01\r\u001b[K     |████████████████████████████████| 1.9MB 11.7MB/s \n",
            "\u001b[?25hRequirement already satisfied: requests in /usr/local/lib/python3.7/dist-packages (from facenet_pytorch) (2.23.0)\n",
            "Requirement already satisfied: numpy in /usr/local/lib/python3.7/dist-packages (from facenet_pytorch) (1.19.5)\n",
            "Requirement already satisfied: pillow in /usr/local/lib/python3.7/dist-packages (from facenet_pytorch) (7.1.2)\n",
            "Requirement already satisfied: torchvision in /usr/local/lib/python3.7/dist-packages (from facenet_pytorch) (0.9.1+cu101)\n",
            "Requirement already satisfied: chardet<4,>=3.0.2 in /usr/local/lib/python3.7/dist-packages (from requests->facenet_pytorch) (3.0.4)\n",
            "Requirement already satisfied: certifi>=2017.4.17 in /usr/local/lib/python3.7/dist-packages (from requests->facenet_pytorch) (2020.12.5)\n",
            "Requirement already satisfied: idna<3,>=2.5 in /usr/local/lib/python3.7/dist-packages (from requests->facenet_pytorch) (2.10)\n",
            "Requirement already satisfied: urllib3!=1.25.0,!=1.25.1,<1.26,>=1.21.1 in /usr/local/lib/python3.7/dist-packages (from requests->facenet_pytorch) (1.24.3)\n",
            "Requirement already satisfied: torch==1.8.1 in /usr/local/lib/python3.7/dist-packages (from torchvision->facenet_pytorch) (1.8.1+cu101)\n",
            "Requirement already satisfied: typing-extensions in /usr/local/lib/python3.7/dist-packages (from torch==1.8.1->torchvision->facenet_pytorch) (3.7.4.3)\n",
            "Installing collected packages: facenet-pytorch\n",
            "Successfully installed facenet-pytorch-2.5.2\n"
          ],
          "name": "stdout"
        }
      ]
    },
    {
      "cell_type": "code",
      "metadata": {
        "id": "vTW4eGODHdii"
      },
      "source": [
        "from matplotlib import pyplot as plt\n",
        "from matplotlib.patches import Rectangle\n",
        "from matplotlib.patches import Circle\n",
        "from PIL import Image \n",
        "from numpy import savez_compressed\n",
        "from numpy import asarray\n",
        "from os import listdir\n",
        "from mtcnn.mtcnn import MTCNN\n",
        "\n"
      ],
      "execution_count": null,
      "outputs": []
    },
    {
      "cell_type": "code",
      "metadata": {
        "id": "EbeV2kczHtjU"
      },
      "source": [
        "#Method to extract Face\n",
        "def extract_image(image):\n",
        "  img1 = Image.open(image)            #open the image\n",
        "  img1 = img1.convert('RGB')          #convert the image to RGB format \n",
        "  pixels = asarray(img1)              #convert the image to numpy array\n",
        "  detector = MTCNN()                  #assign the MTCNN detector\n",
        "  f = detector.detect_faces(pixels)\n",
        "  #fetching the (x,y)co-ordinate and (width-->w, height-->h) of the image\n",
        "  x1,y1,w,h = f[0]['box']             \n",
        "  x1, y1 = abs(x1), abs(y1)\n",
        "  x2 = abs(x1+w)\n",
        "  y2 = abs(y1+h)\n",
        "  #locate the co-ordinates of face in the image\n",
        "  store_face = pixels[y1:y2,x1:x2]\n",
        "  plt.imshow(store_face)\n",
        "  image1 = Image.fromarray(store_face,'RGB')    #convert the numpy array to object\n",
        "  image1 = image1.resize((160,160))             #resize the image\n",
        "  face_array = asarray(image1)                  #image to array\n",
        "  return face_array\n",
        "\n"
      ],
      "execution_count": null,
      "outputs": []
    },
    {
      "cell_type": "markdown",
      "metadata": {
        "id": "6SawQf3YHqEb"
      },
      "source": [
        "----------------------------------------------------------------------------------------------------------------------------------------------------------------------------------------"
      ]
    },
    {
      "cell_type": "code",
      "metadata": {
        "id": "_0KsbjTfFKvR"
      },
      "source": [
        "import pandas as pd\n",
        "import numpy as np\n",
        "import tensorflow as tf\n",
        "from keras.layers import Flatten, Dense, Conv2D, MaxPooling2D, Dropout\n",
        "from keras.models import Sequential\n",
        "from keras.preprocessing.image import ImageDataGenerator,array_to_img, img_to_array, load_img\n"
      ],
      "execution_count": null,
      "outputs": []
    },
    {
      "cell_type": "code",
      "metadata": {
        "id": "n4iGE3vIXx2Y"
      },
      "source": [
        "train = pd.read_csv('/content/drive/MyDrive/Facial recognition/training.csv')\n",
        "test = pd.read_csv('/content/drive/MyDrive/Facial recognition/test.csv')\n",
        "lookup = pd.read_csv('/content/drive/MyDrive/Facial recognition/IdLookupTable.csv')"
      ],
      "execution_count": null,
      "outputs": []
    },
    {
      "cell_type": "code",
      "metadata": {
        "id": "2bEyNfhVH0Uh",
        "colab": {
          "base_uri": "https://localhost:8080/",
          "height": 1000
        },
        "outputId": "b993c2c7-d4fb-4da9-f535-d9f356494675"
      },
      "source": [
        "train.head()"
      ],
      "execution_count": null,
      "outputs": [
        {
          "output_type": "execute_result",
          "data": {
            "text/html": [
              "<div>\n",
              "<style scoped>\n",
              "    .dataframe tbody tr th:only-of-type {\n",
              "        vertical-align: middle;\n",
              "    }\n",
              "\n",
              "    .dataframe tbody tr th {\n",
              "        vertical-align: top;\n",
              "    }\n",
              "\n",
              "    .dataframe thead th {\n",
              "        text-align: right;\n",
              "    }\n",
              "</style>\n",
              "<table border=\"1\" class=\"dataframe\">\n",
              "  <thead>\n",
              "    <tr style=\"text-align: right;\">\n",
              "      <th></th>\n",
              "      <th>left_eye_center_x</th>\n",
              "      <th>left_eye_center_y</th>\n",
              "      <th>right_eye_center_x</th>\n",
              "      <th>right_eye_center_y</th>\n",
              "      <th>left_eye_inner_corner_x</th>\n",
              "      <th>left_eye_inner_corner_y</th>\n",
              "      <th>left_eye_outer_corner_x</th>\n",
              "      <th>left_eye_outer_corner_y</th>\n",
              "      <th>right_eye_inner_corner_x</th>\n",
              "      <th>right_eye_inner_corner_y</th>\n",
              "      <th>right_eye_outer_corner_x</th>\n",
              "      <th>right_eye_outer_corner_y</th>\n",
              "      <th>left_eyebrow_inner_end_x</th>\n",
              "      <th>left_eyebrow_inner_end_y</th>\n",
              "      <th>left_eyebrow_outer_end_x</th>\n",
              "      <th>left_eyebrow_outer_end_y</th>\n",
              "      <th>right_eyebrow_inner_end_x</th>\n",
              "      <th>right_eyebrow_inner_end_y</th>\n",
              "      <th>right_eyebrow_outer_end_x</th>\n",
              "      <th>right_eyebrow_outer_end_y</th>\n",
              "      <th>nose_tip_x</th>\n",
              "      <th>nose_tip_y</th>\n",
              "      <th>mouth_left_corner_x</th>\n",
              "      <th>mouth_left_corner_y</th>\n",
              "      <th>mouth_right_corner_x</th>\n",
              "      <th>mouth_right_corner_y</th>\n",
              "      <th>mouth_center_top_lip_x</th>\n",
              "      <th>mouth_center_top_lip_y</th>\n",
              "      <th>mouth_center_bottom_lip_x</th>\n",
              "      <th>mouth_center_bottom_lip_y</th>\n",
              "      <th>Image</th>\n",
              "    </tr>\n",
              "  </thead>\n",
              "  <tbody>\n",
              "    <tr>\n",
              "      <th>0</th>\n",
              "      <td>66.033564</td>\n",
              "      <td>39.002274</td>\n",
              "      <td>30.227008</td>\n",
              "      <td>36.421678</td>\n",
              "      <td>59.582075</td>\n",
              "      <td>39.647423</td>\n",
              "      <td>73.130346</td>\n",
              "      <td>39.969997</td>\n",
              "      <td>36.356571</td>\n",
              "      <td>37.389402</td>\n",
              "      <td>23.452872</td>\n",
              "      <td>37.389402</td>\n",
              "      <td>56.953263</td>\n",
              "      <td>29.033648</td>\n",
              "      <td>80.227128</td>\n",
              "      <td>32.228138</td>\n",
              "      <td>40.227609</td>\n",
              "      <td>29.002322</td>\n",
              "      <td>16.356379</td>\n",
              "      <td>29.647471</td>\n",
              "      <td>44.420571</td>\n",
              "      <td>57.066803</td>\n",
              "      <td>61.195308</td>\n",
              "      <td>79.970165</td>\n",
              "      <td>28.614496</td>\n",
              "      <td>77.388992</td>\n",
              "      <td>43.312602</td>\n",
              "      <td>72.935459</td>\n",
              "      <td>43.130707</td>\n",
              "      <td>84.485774</td>\n",
              "      <td>238 236 237 238 240 240 239 241 241 243 240 23...</td>\n",
              "    </tr>\n",
              "    <tr>\n",
              "      <th>1</th>\n",
              "      <td>64.332936</td>\n",
              "      <td>34.970077</td>\n",
              "      <td>29.949277</td>\n",
              "      <td>33.448715</td>\n",
              "      <td>58.856170</td>\n",
              "      <td>35.274349</td>\n",
              "      <td>70.722723</td>\n",
              "      <td>36.187166</td>\n",
              "      <td>36.034723</td>\n",
              "      <td>34.361532</td>\n",
              "      <td>24.472511</td>\n",
              "      <td>33.144443</td>\n",
              "      <td>53.987404</td>\n",
              "      <td>28.275949</td>\n",
              "      <td>78.634213</td>\n",
              "      <td>30.405923</td>\n",
              "      <td>42.728851</td>\n",
              "      <td>26.146043</td>\n",
              "      <td>16.865362</td>\n",
              "      <td>27.058860</td>\n",
              "      <td>48.206298</td>\n",
              "      <td>55.660936</td>\n",
              "      <td>56.421447</td>\n",
              "      <td>76.352000</td>\n",
              "      <td>35.122383</td>\n",
              "      <td>76.047660</td>\n",
              "      <td>46.684596</td>\n",
              "      <td>70.266553</td>\n",
              "      <td>45.467915</td>\n",
              "      <td>85.480170</td>\n",
              "      <td>219 215 204 196 204 211 212 200 180 168 178 19...</td>\n",
              "    </tr>\n",
              "    <tr>\n",
              "      <th>2</th>\n",
              "      <td>65.057053</td>\n",
              "      <td>34.909642</td>\n",
              "      <td>30.903789</td>\n",
              "      <td>34.909642</td>\n",
              "      <td>59.412000</td>\n",
              "      <td>36.320968</td>\n",
              "      <td>70.984421</td>\n",
              "      <td>36.320968</td>\n",
              "      <td>37.678105</td>\n",
              "      <td>36.320968</td>\n",
              "      <td>24.976421</td>\n",
              "      <td>36.603221</td>\n",
              "      <td>55.742526</td>\n",
              "      <td>27.570947</td>\n",
              "      <td>78.887368</td>\n",
              "      <td>32.651621</td>\n",
              "      <td>42.193895</td>\n",
              "      <td>28.135453</td>\n",
              "      <td>16.791158</td>\n",
              "      <td>32.087116</td>\n",
              "      <td>47.557263</td>\n",
              "      <td>53.538947</td>\n",
              "      <td>60.822947</td>\n",
              "      <td>73.014316</td>\n",
              "      <td>33.726316</td>\n",
              "      <td>72.732000</td>\n",
              "      <td>47.274947</td>\n",
              "      <td>70.191789</td>\n",
              "      <td>47.274947</td>\n",
              "      <td>78.659368</td>\n",
              "      <td>144 142 159 180 188 188 184 180 167 132 84 59 ...</td>\n",
              "    </tr>\n",
              "    <tr>\n",
              "      <th>3</th>\n",
              "      <td>65.225739</td>\n",
              "      <td>37.261774</td>\n",
              "      <td>32.023096</td>\n",
              "      <td>37.261774</td>\n",
              "      <td>60.003339</td>\n",
              "      <td>39.127179</td>\n",
              "      <td>72.314713</td>\n",
              "      <td>38.380967</td>\n",
              "      <td>37.618643</td>\n",
              "      <td>38.754115</td>\n",
              "      <td>25.307270</td>\n",
              "      <td>38.007903</td>\n",
              "      <td>56.433809</td>\n",
              "      <td>30.929864</td>\n",
              "      <td>77.910261</td>\n",
              "      <td>31.665725</td>\n",
              "      <td>41.671513</td>\n",
              "      <td>31.049990</td>\n",
              "      <td>20.458017</td>\n",
              "      <td>29.909343</td>\n",
              "      <td>51.885078</td>\n",
              "      <td>54.166539</td>\n",
              "      <td>65.598887</td>\n",
              "      <td>72.703722</td>\n",
              "      <td>37.245496</td>\n",
              "      <td>74.195478</td>\n",
              "      <td>50.303165</td>\n",
              "      <td>70.091687</td>\n",
              "      <td>51.561183</td>\n",
              "      <td>78.268383</td>\n",
              "      <td>193 192 193 194 194 194 193 192 168 111 50 12 ...</td>\n",
              "    </tr>\n",
              "    <tr>\n",
              "      <th>4</th>\n",
              "      <td>66.725301</td>\n",
              "      <td>39.621261</td>\n",
              "      <td>32.244810</td>\n",
              "      <td>38.042032</td>\n",
              "      <td>58.565890</td>\n",
              "      <td>39.621261</td>\n",
              "      <td>72.515926</td>\n",
              "      <td>39.884466</td>\n",
              "      <td>36.982380</td>\n",
              "      <td>39.094852</td>\n",
              "      <td>22.506110</td>\n",
              "      <td>38.305237</td>\n",
              "      <td>57.249571</td>\n",
              "      <td>30.672177</td>\n",
              "      <td>77.762945</td>\n",
              "      <td>31.737247</td>\n",
              "      <td>38.035436</td>\n",
              "      <td>30.935382</td>\n",
              "      <td>15.925870</td>\n",
              "      <td>30.672177</td>\n",
              "      <td>43.299534</td>\n",
              "      <td>64.889521</td>\n",
              "      <td>60.671411</td>\n",
              "      <td>77.523239</td>\n",
              "      <td>31.191755</td>\n",
              "      <td>76.997301</td>\n",
              "      <td>44.962748</td>\n",
              "      <td>73.707387</td>\n",
              "      <td>44.227141</td>\n",
              "      <td>86.871166</td>\n",
              "      <td>147 148 160 196 215 214 216 217 219 220 206 18...</td>\n",
              "    </tr>\n",
              "  </tbody>\n",
              "</table>\n",
              "</div>"
            ],
            "text/plain": [
              "   left_eye_center_x  ...                                              Image\n",
              "0          66.033564  ...  238 236 237 238 240 240 239 241 241 243 240 23...\n",
              "1          64.332936  ...  219 215 204 196 204 211 212 200 180 168 178 19...\n",
              "2          65.057053  ...  144 142 159 180 188 188 184 180 167 132 84 59 ...\n",
              "3          65.225739  ...  193 192 193 194 194 194 193 192 168 111 50 12 ...\n",
              "4          66.725301  ...  147 148 160 196 215 214 216 217 219 220 206 18...\n",
              "\n",
              "[5 rows x 31 columns]"
            ]
          },
          "metadata": {
            "tags": []
          },
          "execution_count": 8
        }
      ]
    },
    {
      "cell_type": "code",
      "metadata": {
        "id": "bUWrrUknH8eV",
        "colab": {
          "base_uri": "https://localhost:8080/",
          "height": 304
        },
        "outputId": "ae2b3566-00dd-48d9-fa33-4ebe2fb00f08"
      },
      "source": [
        "train.describe()"
      ],
      "execution_count": null,
      "outputs": [
        {
          "output_type": "execute_result",
          "data": {
            "text/html": [
              "<div>\n",
              "<style scoped>\n",
              "    .dataframe tbody tr th:only-of-type {\n",
              "        vertical-align: middle;\n",
              "    }\n",
              "\n",
              "    .dataframe tbody tr th {\n",
              "        vertical-align: top;\n",
              "    }\n",
              "\n",
              "    .dataframe thead th {\n",
              "        text-align: right;\n",
              "    }\n",
              "</style>\n",
              "<table border=\"1\" class=\"dataframe\">\n",
              "  <thead>\n",
              "    <tr style=\"text-align: right;\">\n",
              "      <th></th>\n",
              "      <th>left_eye_center_x</th>\n",
              "      <th>left_eye_center_y</th>\n",
              "      <th>right_eye_center_x</th>\n",
              "      <th>right_eye_center_y</th>\n",
              "      <th>left_eye_inner_corner_x</th>\n",
              "      <th>left_eye_inner_corner_y</th>\n",
              "      <th>left_eye_outer_corner_x</th>\n",
              "      <th>left_eye_outer_corner_y</th>\n",
              "      <th>right_eye_inner_corner_x</th>\n",
              "      <th>right_eye_inner_corner_y</th>\n",
              "      <th>right_eye_outer_corner_x</th>\n",
              "      <th>right_eye_outer_corner_y</th>\n",
              "      <th>left_eyebrow_inner_end_x</th>\n",
              "      <th>left_eyebrow_inner_end_y</th>\n",
              "      <th>left_eyebrow_outer_end_x</th>\n",
              "      <th>left_eyebrow_outer_end_y</th>\n",
              "      <th>right_eyebrow_inner_end_x</th>\n",
              "      <th>right_eyebrow_inner_end_y</th>\n",
              "      <th>right_eyebrow_outer_end_x</th>\n",
              "      <th>right_eyebrow_outer_end_y</th>\n",
              "      <th>nose_tip_x</th>\n",
              "      <th>nose_tip_y</th>\n",
              "      <th>mouth_left_corner_x</th>\n",
              "      <th>mouth_left_corner_y</th>\n",
              "      <th>mouth_right_corner_x</th>\n",
              "      <th>mouth_right_corner_y</th>\n",
              "      <th>mouth_center_top_lip_x</th>\n",
              "      <th>mouth_center_top_lip_y</th>\n",
              "      <th>mouth_center_bottom_lip_x</th>\n",
              "      <th>mouth_center_bottom_lip_y</th>\n",
              "    </tr>\n",
              "  </thead>\n",
              "  <tbody>\n",
              "    <tr>\n",
              "      <th>count</th>\n",
              "      <td>7039.000000</td>\n",
              "      <td>7039.000000</td>\n",
              "      <td>7036.000000</td>\n",
              "      <td>7036.000000</td>\n",
              "      <td>2271.000000</td>\n",
              "      <td>2271.000000</td>\n",
              "      <td>2267.000000</td>\n",
              "      <td>2267.000000</td>\n",
              "      <td>2268.000000</td>\n",
              "      <td>2268.000000</td>\n",
              "      <td>2268.000000</td>\n",
              "      <td>2268.000000</td>\n",
              "      <td>2270.000000</td>\n",
              "      <td>2270.000000</td>\n",
              "      <td>2225.000000</td>\n",
              "      <td>2225.000000</td>\n",
              "      <td>2270.000000</td>\n",
              "      <td>2270.000000</td>\n",
              "      <td>2236.000000</td>\n",
              "      <td>2236.000000</td>\n",
              "      <td>7049.000000</td>\n",
              "      <td>7049.000000</td>\n",
              "      <td>2269.000000</td>\n",
              "      <td>2269.000000</td>\n",
              "      <td>2270.000000</td>\n",
              "      <td>2270.000000</td>\n",
              "      <td>2275.000000</td>\n",
              "      <td>2275.000000</td>\n",
              "      <td>7016.000000</td>\n",
              "      <td>7016.000000</td>\n",
              "    </tr>\n",
              "    <tr>\n",
              "      <th>mean</th>\n",
              "      <td>66.359021</td>\n",
              "      <td>37.651234</td>\n",
              "      <td>30.306102</td>\n",
              "      <td>37.976943</td>\n",
              "      <td>59.159339</td>\n",
              "      <td>37.944752</td>\n",
              "      <td>73.330478</td>\n",
              "      <td>37.707008</td>\n",
              "      <td>36.652607</td>\n",
              "      <td>37.989902</td>\n",
              "      <td>22.384504</td>\n",
              "      <td>38.033495</td>\n",
              "      <td>56.068513</td>\n",
              "      <td>29.332678</td>\n",
              "      <td>79.482826</td>\n",
              "      <td>29.734861</td>\n",
              "      <td>39.322137</td>\n",
              "      <td>29.502998</td>\n",
              "      <td>15.871177</td>\n",
              "      <td>30.428166</td>\n",
              "      <td>48.374186</td>\n",
              "      <td>62.715884</td>\n",
              "      <td>63.285735</td>\n",
              "      <td>75.970714</td>\n",
              "      <td>32.900404</td>\n",
              "      <td>76.179768</td>\n",
              "      <td>47.975412</td>\n",
              "      <td>72.919443</td>\n",
              "      <td>48.569472</td>\n",
              "      <td>78.970146</td>\n",
              "    </tr>\n",
              "    <tr>\n",
              "      <th>std</th>\n",
              "      <td>3.448233</td>\n",
              "      <td>3.152926</td>\n",
              "      <td>3.083230</td>\n",
              "      <td>3.033621</td>\n",
              "      <td>2.690354</td>\n",
              "      <td>2.307332</td>\n",
              "      <td>3.405852</td>\n",
              "      <td>2.881438</td>\n",
              "      <td>2.350268</td>\n",
              "      <td>2.311907</td>\n",
              "      <td>3.057122</td>\n",
              "      <td>2.910368</td>\n",
              "      <td>3.485485</td>\n",
              "      <td>3.078134</td>\n",
              "      <td>3.986224</td>\n",
              "      <td>3.773744</td>\n",
              "      <td>3.209641</td>\n",
              "      <td>3.106869</td>\n",
              "      <td>3.622533</td>\n",
              "      <td>3.865772</td>\n",
              "      <td>4.280038</td>\n",
              "      <td>5.720567</td>\n",
              "      <td>4.079063</td>\n",
              "      <td>4.579724</td>\n",
              "      <td>3.964552</td>\n",
              "      <td>4.417814</td>\n",
              "      <td>3.323060</td>\n",
              "      <td>5.222500</td>\n",
              "      <td>4.269961</td>\n",
              "      <td>5.407844</td>\n",
              "    </tr>\n",
              "    <tr>\n",
              "      <th>min</th>\n",
              "      <td>22.763345</td>\n",
              "      <td>1.616512</td>\n",
              "      <td>0.686592</td>\n",
              "      <td>4.091264</td>\n",
              "      <td>19.064954</td>\n",
              "      <td>27.190098</td>\n",
              "      <td>27.571879</td>\n",
              "      <td>26.250023</td>\n",
              "      <td>5.751046</td>\n",
              "      <td>26.250023</td>\n",
              "      <td>3.980117</td>\n",
              "      <td>25.123828</td>\n",
              "      <td>17.888717</td>\n",
              "      <td>15.859361</td>\n",
              "      <td>32.206432</td>\n",
              "      <td>10.522325</td>\n",
              "      <td>6.921014</td>\n",
              "      <td>16.476000</td>\n",
              "      <td>3.826243</td>\n",
              "      <td>13.224453</td>\n",
              "      <td>12.944699</td>\n",
              "      <td>17.932414</td>\n",
              "      <td>22.923362</td>\n",
              "      <td>57.023258</td>\n",
              "      <td>2.245766</td>\n",
              "      <td>56.690208</td>\n",
              "      <td>12.605173</td>\n",
              "      <td>56.719043</td>\n",
              "      <td>12.536477</td>\n",
              "      <td>25.850503</td>\n",
              "    </tr>\n",
              "    <tr>\n",
              "      <th>25%</th>\n",
              "      <td>65.082895</td>\n",
              "      <td>35.900451</td>\n",
              "      <td>28.783339</td>\n",
              "      <td>36.327681</td>\n",
              "      <td>58.039339</td>\n",
              "      <td>36.626283</td>\n",
              "      <td>71.716503</td>\n",
              "      <td>36.085523</td>\n",
              "      <td>35.506126</td>\n",
              "      <td>36.766783</td>\n",
              "      <td>20.585808</td>\n",
              "      <td>36.534382</td>\n",
              "      <td>54.515587</td>\n",
              "      <td>27.617244</td>\n",
              "      <td>77.673916</td>\n",
              "      <td>27.667948</td>\n",
              "      <td>37.552286</td>\n",
              "      <td>27.790607</td>\n",
              "      <td>13.562183</td>\n",
              "      <td>28.206046</td>\n",
              "      <td>46.602370</td>\n",
              "      <td>59.292697</td>\n",
              "      <td>61.257143</td>\n",
              "      <td>72.875707</td>\n",
              "      <td>30.797646</td>\n",
              "      <td>73.256472</td>\n",
              "      <td>46.494571</td>\n",
              "      <td>69.396748</td>\n",
              "      <td>46.573703</td>\n",
              "      <td>75.549715</td>\n",
              "    </tr>\n",
              "    <tr>\n",
              "      <th>50%</th>\n",
              "      <td>66.497566</td>\n",
              "      <td>37.528055</td>\n",
              "      <td>30.251378</td>\n",
              "      <td>37.813273</td>\n",
              "      <td>59.304615</td>\n",
              "      <td>37.878040</td>\n",
              "      <td>73.247824</td>\n",
              "      <td>37.639015</td>\n",
              "      <td>36.651562</td>\n",
              "      <td>37.944075</td>\n",
              "      <td>22.535954</td>\n",
              "      <td>37.867071</td>\n",
              "      <td>56.244975</td>\n",
              "      <td>29.528872</td>\n",
              "      <td>79.784229</td>\n",
              "      <td>29.773813</td>\n",
              "      <td>39.298848</td>\n",
              "      <td>29.569347</td>\n",
              "      <td>15.785709</td>\n",
              "      <td>30.320160</td>\n",
              "      <td>48.424713</td>\n",
              "      <td>63.451421</td>\n",
              "      <td>63.178286</td>\n",
              "      <td>75.778689</td>\n",
              "      <td>32.982305</td>\n",
              "      <td>76.000592</td>\n",
              "      <td>47.905490</td>\n",
              "      <td>72.605173</td>\n",
              "      <td>48.594978</td>\n",
              "      <td>78.696326</td>\n",
              "    </tr>\n",
              "    <tr>\n",
              "      <th>75%</th>\n",
              "      <td>68.024752</td>\n",
              "      <td>39.258449</td>\n",
              "      <td>31.768334</td>\n",
              "      <td>39.566729</td>\n",
              "      <td>60.519810</td>\n",
              "      <td>39.260348</td>\n",
              "      <td>75.015645</td>\n",
              "      <td>39.373489</td>\n",
              "      <td>37.753571</td>\n",
              "      <td>39.192917</td>\n",
              "      <td>24.237701</td>\n",
              "      <td>39.415051</td>\n",
              "      <td>57.946415</td>\n",
              "      <td>31.158830</td>\n",
              "      <td>81.590720</td>\n",
              "      <td>31.835621</td>\n",
              "      <td>40.917160</td>\n",
              "      <td>31.251664</td>\n",
              "      <td>17.999040</td>\n",
              "      <td>32.654768</td>\n",
              "      <td>50.330437</td>\n",
              "      <td>66.492686</td>\n",
              "      <td>65.376243</td>\n",
              "      <td>78.879123</td>\n",
              "      <td>35.101302</td>\n",
              "      <td>78.956357</td>\n",
              "      <td>49.296488</td>\n",
              "      <td>76.221644</td>\n",
              "      <td>50.677631</td>\n",
              "      <td>82.233993</td>\n",
              "    </tr>\n",
              "    <tr>\n",
              "      <th>max</th>\n",
              "      <td>94.689280</td>\n",
              "      <td>80.502649</td>\n",
              "      <td>85.039381</td>\n",
              "      <td>81.270911</td>\n",
              "      <td>84.440991</td>\n",
              "      <td>66.562559</td>\n",
              "      <td>95.258090</td>\n",
              "      <td>64.618230</td>\n",
              "      <td>70.714966</td>\n",
              "      <td>69.808803</td>\n",
              "      <td>61.428580</td>\n",
              "      <td>70.746797</td>\n",
              "      <td>79.787831</td>\n",
              "      <td>60.875896</td>\n",
              "      <td>94.269957</td>\n",
              "      <td>60.500298</td>\n",
              "      <td>76.582388</td>\n",
              "      <td>62.083177</td>\n",
              "      <td>58.418216</td>\n",
              "      <td>66.751329</td>\n",
              "      <td>89.438592</td>\n",
              "      <td>95.935644</td>\n",
              "      <td>84.767123</td>\n",
              "      <td>94.673637</td>\n",
              "      <td>74.017993</td>\n",
              "      <td>95.510678</td>\n",
              "      <td>83.989082</td>\n",
              "      <td>94.548359</td>\n",
              "      <td>89.438592</td>\n",
              "      <td>95.808983</td>\n",
              "    </tr>\n",
              "  </tbody>\n",
              "</table>\n",
              "</div>"
            ],
            "text/plain": [
              "       left_eye_center_x  ...  mouth_center_bottom_lip_y\n",
              "count        7039.000000  ...                7016.000000\n",
              "mean           66.359021  ...                  78.970146\n",
              "std             3.448233  ...                   5.407844\n",
              "min            22.763345  ...                  25.850503\n",
              "25%            65.082895  ...                  75.549715\n",
              "50%            66.497566  ...                  78.696326\n",
              "75%            68.024752  ...                  82.233993\n",
              "max            94.689280  ...                  95.808983\n",
              "\n",
              "[8 rows x 30 columns]"
            ]
          },
          "metadata": {
            "tags": []
          },
          "execution_count": 9
        }
      ]
    },
    {
      "cell_type": "code",
      "metadata": {
        "id": "N9BrGK1GIB74",
        "colab": {
          "base_uri": "https://localhost:8080/"
        },
        "outputId": "2233bb80-24c6-4d5e-9b65-7bb5b9b8cbf5"
      },
      "source": [
        "train.fillna(method = \"ffill\",inplace=True)\n",
        "train.isnull().any().value_counts()"
      ],
      "execution_count": null,
      "outputs": [
        {
          "output_type": "execute_result",
          "data": {
            "text/plain": [
              "False    31\n",
              "dtype: int64"
            ]
          },
          "metadata": {
            "tags": []
          },
          "execution_count": 10
        }
      ]
    },
    {
      "cell_type": "code",
      "metadata": {
        "id": "rkh8btosIUAV",
        "colab": {
          "base_uri": "https://localhost:8080/",
          "height": 304
        },
        "outputId": "8d7e8a36-e126-4a4a-c4a4-670f4f1bbcb7"
      },
      "source": [
        "train.describe()"
      ],
      "execution_count": null,
      "outputs": [
        {
          "output_type": "execute_result",
          "data": {
            "text/html": [
              "<div>\n",
              "<style scoped>\n",
              "    .dataframe tbody tr th:only-of-type {\n",
              "        vertical-align: middle;\n",
              "    }\n",
              "\n",
              "    .dataframe tbody tr th {\n",
              "        vertical-align: top;\n",
              "    }\n",
              "\n",
              "    .dataframe thead th {\n",
              "        text-align: right;\n",
              "    }\n",
              "</style>\n",
              "<table border=\"1\" class=\"dataframe\">\n",
              "  <thead>\n",
              "    <tr style=\"text-align: right;\">\n",
              "      <th></th>\n",
              "      <th>left_eye_center_x</th>\n",
              "      <th>left_eye_center_y</th>\n",
              "      <th>right_eye_center_x</th>\n",
              "      <th>right_eye_center_y</th>\n",
              "      <th>left_eye_inner_corner_x</th>\n",
              "      <th>left_eye_inner_corner_y</th>\n",
              "      <th>left_eye_outer_corner_x</th>\n",
              "      <th>left_eye_outer_corner_y</th>\n",
              "      <th>right_eye_inner_corner_x</th>\n",
              "      <th>right_eye_inner_corner_y</th>\n",
              "      <th>right_eye_outer_corner_x</th>\n",
              "      <th>right_eye_outer_corner_y</th>\n",
              "      <th>left_eyebrow_inner_end_x</th>\n",
              "      <th>left_eyebrow_inner_end_y</th>\n",
              "      <th>left_eyebrow_outer_end_x</th>\n",
              "      <th>left_eyebrow_outer_end_y</th>\n",
              "      <th>right_eyebrow_inner_end_x</th>\n",
              "      <th>right_eyebrow_inner_end_y</th>\n",
              "      <th>right_eyebrow_outer_end_x</th>\n",
              "      <th>right_eyebrow_outer_end_y</th>\n",
              "      <th>nose_tip_x</th>\n",
              "      <th>nose_tip_y</th>\n",
              "      <th>mouth_left_corner_x</th>\n",
              "      <th>mouth_left_corner_y</th>\n",
              "      <th>mouth_right_corner_x</th>\n",
              "      <th>mouth_right_corner_y</th>\n",
              "      <th>mouth_center_top_lip_x</th>\n",
              "      <th>mouth_center_top_lip_y</th>\n",
              "      <th>mouth_center_bottom_lip_x</th>\n",
              "      <th>mouth_center_bottom_lip_y</th>\n",
              "    </tr>\n",
              "  </thead>\n",
              "  <tbody>\n",
              "    <tr>\n",
              "      <th>count</th>\n",
              "      <td>7049.000000</td>\n",
              "      <td>7049.000000</td>\n",
              "      <td>7049.000000</td>\n",
              "      <td>7049.000000</td>\n",
              "      <td>7049.000000</td>\n",
              "      <td>7049.000000</td>\n",
              "      <td>7049.000000</td>\n",
              "      <td>7049.000000</td>\n",
              "      <td>7049.000000</td>\n",
              "      <td>7049.000000</td>\n",
              "      <td>7049.000000</td>\n",
              "      <td>7049.000000</td>\n",
              "      <td>7049.000000</td>\n",
              "      <td>7049.000000</td>\n",
              "      <td>7049.000000</td>\n",
              "      <td>7049.000000</td>\n",
              "      <td>7049.000000</td>\n",
              "      <td>7049.000000</td>\n",
              "      <td>7049.000000</td>\n",
              "      <td>7049.000000</td>\n",
              "      <td>7049.000000</td>\n",
              "      <td>7049.000000</td>\n",
              "      <td>7049.000000</td>\n",
              "      <td>7049.000000</td>\n",
              "      <td>7049.000000</td>\n",
              "      <td>7049.000000</td>\n",
              "      <td>7049.000000</td>\n",
              "      <td>7049.000000</td>\n",
              "      <td>7049.000000</td>\n",
              "      <td>7049.000000</td>\n",
              "    </tr>\n",
              "    <tr>\n",
              "      <th>mean</th>\n",
              "      <td>66.358588</td>\n",
              "      <td>37.649140</td>\n",
              "      <td>30.306631</td>\n",
              "      <td>37.975901</td>\n",
              "      <td>59.224060</td>\n",
              "      <td>36.675731</td>\n",
              "      <td>73.746775</td>\n",
              "      <td>35.619961</td>\n",
              "      <td>37.214171</td>\n",
              "      <td>38.942849</td>\n",
              "      <td>22.162446</td>\n",
              "      <td>39.588348</td>\n",
              "      <td>54.194620</td>\n",
              "      <td>29.774418</td>\n",
              "      <td>80.468907</td>\n",
              "      <td>28.534791</td>\n",
              "      <td>38.954169</td>\n",
              "      <td>32.070739</td>\n",
              "      <td>15.138279</td>\n",
              "      <td>34.188305</td>\n",
              "      <td>48.374186</td>\n",
              "      <td>62.715884</td>\n",
              "      <td>69.586932</td>\n",
              "      <td>73.195985</td>\n",
              "      <td>33.799680</td>\n",
              "      <td>76.964546</td>\n",
              "      <td>50.425299</td>\n",
              "      <td>74.982529</td>\n",
              "      <td>48.565976</td>\n",
              "      <td>78.979256</td>\n",
              "    </tr>\n",
              "    <tr>\n",
              "      <th>std</th>\n",
              "      <td>3.447098</td>\n",
              "      <td>3.152072</td>\n",
              "      <td>3.083087</td>\n",
              "      <td>3.032590</td>\n",
              "      <td>1.537961</td>\n",
              "      <td>1.581946</td>\n",
              "      <td>1.961901</td>\n",
              "      <td>2.184829</td>\n",
              "      <td>1.393110</td>\n",
              "      <td>1.470456</td>\n",
              "      <td>1.747700</td>\n",
              "      <td>1.972413</td>\n",
              "      <td>2.370622</td>\n",
              "      <td>1.777130</td>\n",
              "      <td>2.398672</td>\n",
              "      <td>2.314226</td>\n",
              "      <td>1.846922</td>\n",
              "      <td>2.507250</td>\n",
              "      <td>2.140417</td>\n",
              "      <td>3.407792</td>\n",
              "      <td>4.280038</td>\n",
              "      <td>5.720567</td>\n",
              "      <td>4.932241</td>\n",
              "      <td>3.242852</td>\n",
              "      <td>2.350229</td>\n",
              "      <td>2.578721</td>\n",
              "      <td>2.543271</td>\n",
              "      <td>3.294983</td>\n",
              "      <td>4.266848</td>\n",
              "      <td>5.406621</td>\n",
              "    </tr>\n",
              "    <tr>\n",
              "      <th>min</th>\n",
              "      <td>22.763345</td>\n",
              "      <td>1.616512</td>\n",
              "      <td>0.686592</td>\n",
              "      <td>4.091264</td>\n",
              "      <td>19.064954</td>\n",
              "      <td>27.190098</td>\n",
              "      <td>27.571879</td>\n",
              "      <td>26.250023</td>\n",
              "      <td>5.751046</td>\n",
              "      <td>26.250023</td>\n",
              "      <td>3.980117</td>\n",
              "      <td>25.123828</td>\n",
              "      <td>17.888717</td>\n",
              "      <td>15.859361</td>\n",
              "      <td>32.206432</td>\n",
              "      <td>10.522325</td>\n",
              "      <td>6.921014</td>\n",
              "      <td>16.476000</td>\n",
              "      <td>3.826243</td>\n",
              "      <td>13.224453</td>\n",
              "      <td>12.944699</td>\n",
              "      <td>17.932414</td>\n",
              "      <td>22.923362</td>\n",
              "      <td>57.023258</td>\n",
              "      <td>2.245766</td>\n",
              "      <td>56.690208</td>\n",
              "      <td>12.605173</td>\n",
              "      <td>56.719043</td>\n",
              "      <td>12.536477</td>\n",
              "      <td>25.850503</td>\n",
              "    </tr>\n",
              "    <tr>\n",
              "      <th>25%</th>\n",
              "      <td>65.082643</td>\n",
              "      <td>35.900605</td>\n",
              "      <td>28.782316</td>\n",
              "      <td>36.327178</td>\n",
              "      <td>59.255347</td>\n",
              "      <td>36.065143</td>\n",
              "      <td>73.942694</td>\n",
              "      <td>34.624653</td>\n",
              "      <td>37.478531</td>\n",
              "      <td>39.355685</td>\n",
              "      <td>22.056816</td>\n",
              "      <td>39.645538</td>\n",
              "      <td>53.299787</td>\n",
              "      <td>29.987657</td>\n",
              "      <td>80.947787</td>\n",
              "      <td>27.977535</td>\n",
              "      <td>38.779298</td>\n",
              "      <td>31.430071</td>\n",
              "      <td>14.798890</td>\n",
              "      <td>32.994798</td>\n",
              "      <td>46.602370</td>\n",
              "      <td>59.292697</td>\n",
              "      <td>65.731401</td>\n",
              "      <td>71.862041</td>\n",
              "      <td>34.232759</td>\n",
              "      <td>77.339429</td>\n",
              "      <td>49.471414</td>\n",
              "      <td>75.963592</td>\n",
              "      <td>46.571821</td>\n",
              "      <td>75.553726</td>\n",
              "    </tr>\n",
              "    <tr>\n",
              "      <th>50%</th>\n",
              "      <td>66.493907</td>\n",
              "      <td>37.526919</td>\n",
              "      <td>30.253135</td>\n",
              "      <td>37.812736</td>\n",
              "      <td>59.255347</td>\n",
              "      <td>36.065143</td>\n",
              "      <td>73.942694</td>\n",
              "      <td>34.624653</td>\n",
              "      <td>37.478531</td>\n",
              "      <td>39.398041</td>\n",
              "      <td>22.056816</td>\n",
              "      <td>40.330122</td>\n",
              "      <td>53.299787</td>\n",
              "      <td>29.987657</td>\n",
              "      <td>80.947787</td>\n",
              "      <td>27.977535</td>\n",
              "      <td>38.779298</td>\n",
              "      <td>33.302596</td>\n",
              "      <td>14.798890</td>\n",
              "      <td>35.982760</td>\n",
              "      <td>48.424713</td>\n",
              "      <td>63.451421</td>\n",
              "      <td>72.600433</td>\n",
              "      <td>71.862041</td>\n",
              "      <td>34.232759</td>\n",
              "      <td>77.339429</td>\n",
              "      <td>51.599453</td>\n",
              "      <td>75.963592</td>\n",
              "      <td>48.588662</td>\n",
              "      <td>78.704640</td>\n",
              "    </tr>\n",
              "    <tr>\n",
              "      <th>75%</th>\n",
              "      <td>68.024628</td>\n",
              "      <td>39.254400</td>\n",
              "      <td>31.768407</td>\n",
              "      <td>39.565928</td>\n",
              "      <td>59.255347</td>\n",
              "      <td>36.499692</td>\n",
              "      <td>73.942694</td>\n",
              "      <td>35.902613</td>\n",
              "      <td>37.478531</td>\n",
              "      <td>39.398041</td>\n",
              "      <td>22.056816</td>\n",
              "      <td>40.330122</td>\n",
              "      <td>54.311385</td>\n",
              "      <td>29.987657</td>\n",
              "      <td>80.947787</td>\n",
              "      <td>27.977535</td>\n",
              "      <td>38.779298</td>\n",
              "      <td>33.302596</td>\n",
              "      <td>14.798890</td>\n",
              "      <td>35.982760</td>\n",
              "      <td>50.330437</td>\n",
              "      <td>66.492686</td>\n",
              "      <td>72.600433</td>\n",
              "      <td>72.591200</td>\n",
              "      <td>34.232759</td>\n",
              "      <td>77.339429</td>\n",
              "      <td>51.599453</td>\n",
              "      <td>75.963592</td>\n",
              "      <td>50.676559</td>\n",
              "      <td>82.236528</td>\n",
              "    </tr>\n",
              "    <tr>\n",
              "      <th>max</th>\n",
              "      <td>94.689280</td>\n",
              "      <td>80.502649</td>\n",
              "      <td>85.039381</td>\n",
              "      <td>81.270911</td>\n",
              "      <td>84.440991</td>\n",
              "      <td>66.562559</td>\n",
              "      <td>95.258090</td>\n",
              "      <td>64.618230</td>\n",
              "      <td>70.714966</td>\n",
              "      <td>69.808803</td>\n",
              "      <td>61.428580</td>\n",
              "      <td>70.746797</td>\n",
              "      <td>79.787831</td>\n",
              "      <td>60.875896</td>\n",
              "      <td>94.269957</td>\n",
              "      <td>60.500298</td>\n",
              "      <td>76.582388</td>\n",
              "      <td>62.083177</td>\n",
              "      <td>58.418216</td>\n",
              "      <td>66.751329</td>\n",
              "      <td>89.438592</td>\n",
              "      <td>95.935644</td>\n",
              "      <td>84.767123</td>\n",
              "      <td>94.673637</td>\n",
              "      <td>74.017993</td>\n",
              "      <td>95.510678</td>\n",
              "      <td>83.989082</td>\n",
              "      <td>94.548359</td>\n",
              "      <td>89.438592</td>\n",
              "      <td>95.808983</td>\n",
              "    </tr>\n",
              "  </tbody>\n",
              "</table>\n",
              "</div>"
            ],
            "text/plain": [
              "       left_eye_center_x  ...  mouth_center_bottom_lip_y\n",
              "count        7049.000000  ...                7049.000000\n",
              "mean           66.358588  ...                  78.979256\n",
              "std             3.447098  ...                   5.406621\n",
              "min            22.763345  ...                  25.850503\n",
              "25%            65.082643  ...                  75.553726\n",
              "50%            66.493907  ...                  78.704640\n",
              "75%            68.024628  ...                  82.236528\n",
              "max            94.689280  ...                  95.808983\n",
              "\n",
              "[8 rows x 30 columns]"
            ]
          },
          "metadata": {
            "tags": []
          },
          "execution_count": 11
        }
      ]
    },
    {
      "cell_type": "code",
      "metadata": {
        "id": "54CMShEAIb_-"
      },
      "source": [
        "images = []\n",
        "for i in range(0,7049):\n",
        "    img = train[\"Image\"][i].split(\" \")\n",
        "    img = ['0' if x ==\" \" else x for x in img]\n",
        "    images.append(img)"
      ],
      "execution_count": null,
      "outputs": []
    },
    {
      "cell_type": "code",
      "metadata": {
        "colab": {
          "base_uri": "https://localhost:8080/"
        },
        "id": "9vdL7gdQInh1",
        "outputId": "a4bb1a0c-9e62-428a-bfcb-3c8cbc59b22b"
      },
      "source": [
        "images = np.array(images,dtype='float')\n",
        "images.shape"
      ],
      "execution_count": null,
      "outputs": [
        {
          "output_type": "execute_result",
          "data": {
            "text/plain": [
              "(7049, 9216)"
            ]
          },
          "metadata": {
            "tags": []
          },
          "execution_count": 13
        }
      ]
    },
    {
      "cell_type": "code",
      "metadata": {
        "id": "E4axwFksI0n7",
        "colab": {
          "base_uri": "https://localhost:8080/"
        },
        "outputId": "341c000d-66f3-496f-a4a1-1b56bb2fc84c"
      },
      "source": [
        "images"
      ],
      "execution_count": null,
      "outputs": [
        {
          "output_type": "execute_result",
          "data": {
            "text/plain": [
              "array([[238., 236., 237., ...,  70.,  75.,  90.],\n",
              "       [219., 215., 204., ...,   1.,   1.,   1.],\n",
              "       [144., 142., 159., ...,  78.,  78.,  77.],\n",
              "       ...,\n",
              "       [ 74.,  74.,  74., ...,  20.,  20.,  20.],\n",
              "       [254., 254., 254., ..., 254., 254., 254.],\n",
              "       [ 53.,  62.,  67., ..., 158., 158., 159.]])"
            ]
          },
          "metadata": {
            "tags": []
          },
          "execution_count": 14
        }
      ]
    },
    {
      "cell_type": "code",
      "metadata": {
        "id": "wsSNcxxCI6CN",
        "colab": {
          "base_uri": "https://localhost:8080/",
          "height": 268
        },
        "outputId": "56dbaa55-91db-4834-fc79-766227a09226"
      },
      "source": [
        "xtrain = images.reshape(-1,96,96)\n",
        "plt.imshow(xtrain[19].reshape(96,96),cmap='gray')\n",
        "plt.show()"
      ],
      "execution_count": null,
      "outputs": [
        {
          "output_type": "display_data",
          "data": {
            "image/png": "[encoded data removed]",
            "text/plain": [
              "<Figure size 432x288 with 1 Axes>"
            ]
          },
          "metadata": {
            "tags": [],
            "needs_background": "light"
          }
        }
      ]
    },
    {
      "cell_type": "code",
      "metadata": {
        "id": "pN-hwv35JBnm",
        "colab": {
          "base_uri": "https://localhost:8080/"
        },
        "outputId": "ae18a8e5-fa9f-4766-e6e2-123ef677a86b"
      },
      "source": [
        "for row in images:\n",
        "    row/=255\n",
        "images\n"
      ],
      "execution_count": null,
      "outputs": [
        {
          "output_type": "execute_result",
          "data": {
            "text/plain": [
              "array([[0.93333333, 0.9254902 , 0.92941176, ..., 0.2745098 , 0.29411765,\n",
              "        0.35294118],\n",
              "       [0.85882353, 0.84313725, 0.8       , ..., 0.00392157, 0.00392157,\n",
              "        0.00392157],\n",
              "       [0.56470588, 0.55686275, 0.62352941, ..., 0.30588235, 0.30588235,\n",
              "        0.30196078],\n",
              "       ...,\n",
              "       [0.29019608, 0.29019608, 0.29019608, ..., 0.07843137, 0.07843137,\n",
              "        0.07843137],\n",
              "       [0.99607843, 0.99607843, 0.99607843, ..., 0.99607843, 0.99607843,\n",
              "        0.99607843],\n",
              "       [0.20784314, 0.24313725, 0.2627451 , ..., 0.61960784, 0.61960784,\n",
              "        0.62352941]])"
            ]
          },
          "metadata": {
            "tags": []
          },
          "execution_count": 16
        }
      ]
    },
    {
      "cell_type": "code",
      "metadata": {
        "id": "dE8s463lJ-LR",
        "colab": {
          "base_uri": "https://localhost:8080/",
          "height": 215
        },
        "outputId": "4bf1530d-26b5-4959-fe81-ea2cccc8dbeb"
      },
      "source": [
        "training = train.drop([\"Image\"],axis=1)\n",
        "training.head()"
      ],
      "execution_count": null,
      "outputs": [
        {
          "output_type": "execute_result",
          "data": {
            "text/html": [
              "<div>\n",
              "<style scoped>\n",
              "    .dataframe tbody tr th:only-of-type {\n",
              "        vertical-align: middle;\n",
              "    }\n",
              "\n",
              "    .dataframe tbody tr th {\n",
              "        vertical-align: top;\n",
              "    }\n",
              "\n",
              "    .dataframe thead th {\n",
              "        text-align: right;\n",
              "    }\n",
              "</style>\n",
              "<table border=\"1\" class=\"dataframe\">\n",
              "  <thead>\n",
              "    <tr style=\"text-align: right;\">\n",
              "      <th></th>\n",
              "      <th>left_eye_center_x</th>\n",
              "      <th>left_eye_center_y</th>\n",
              "      <th>right_eye_center_x</th>\n",
              "      <th>right_eye_center_y</th>\n",
              "      <th>left_eye_inner_corner_x</th>\n",
              "      <th>left_eye_inner_corner_y</th>\n",
              "      <th>left_eye_outer_corner_x</th>\n",
              "      <th>left_eye_outer_corner_y</th>\n",
              "      <th>right_eye_inner_corner_x</th>\n",
              "      <th>right_eye_inner_corner_y</th>\n",
              "      <th>right_eye_outer_corner_x</th>\n",
              "      <th>right_eye_outer_corner_y</th>\n",
              "      <th>left_eyebrow_inner_end_x</th>\n",
              "      <th>left_eyebrow_inner_end_y</th>\n",
              "      <th>left_eyebrow_outer_end_x</th>\n",
              "      <th>left_eyebrow_outer_end_y</th>\n",
              "      <th>right_eyebrow_inner_end_x</th>\n",
              "      <th>right_eyebrow_inner_end_y</th>\n",
              "      <th>right_eyebrow_outer_end_x</th>\n",
              "      <th>right_eyebrow_outer_end_y</th>\n",
              "      <th>nose_tip_x</th>\n",
              "      <th>nose_tip_y</th>\n",
              "      <th>mouth_left_corner_x</th>\n",
              "      <th>mouth_left_corner_y</th>\n",
              "      <th>mouth_right_corner_x</th>\n",
              "      <th>mouth_right_corner_y</th>\n",
              "      <th>mouth_center_top_lip_x</th>\n",
              "      <th>mouth_center_top_lip_y</th>\n",
              "      <th>mouth_center_bottom_lip_x</th>\n",
              "      <th>mouth_center_bottom_lip_y</th>\n",
              "    </tr>\n",
              "  </thead>\n",
              "  <tbody>\n",
              "    <tr>\n",
              "      <th>0</th>\n",
              "      <td>66.033564</td>\n",
              "      <td>39.002274</td>\n",
              "      <td>30.227008</td>\n",
              "      <td>36.421678</td>\n",
              "      <td>59.582075</td>\n",
              "      <td>39.647423</td>\n",
              "      <td>73.130346</td>\n",
              "      <td>39.969997</td>\n",
              "      <td>36.356571</td>\n",
              "      <td>37.389402</td>\n",
              "      <td>23.452872</td>\n",
              "      <td>37.389402</td>\n",
              "      <td>56.953263</td>\n",
              "      <td>29.033648</td>\n",
              "      <td>80.227128</td>\n",
              "      <td>32.228138</td>\n",
              "      <td>40.227609</td>\n",
              "      <td>29.002322</td>\n",
              "      <td>16.356379</td>\n",
              "      <td>29.647471</td>\n",
              "      <td>44.420571</td>\n",
              "      <td>57.066803</td>\n",
              "      <td>61.195308</td>\n",
              "      <td>79.970165</td>\n",
              "      <td>28.614496</td>\n",
              "      <td>77.388992</td>\n",
              "      <td>43.312602</td>\n",
              "      <td>72.935459</td>\n",
              "      <td>43.130707</td>\n",
              "      <td>84.485774</td>\n",
              "    </tr>\n",
              "    <tr>\n",
              "      <th>1</th>\n",
              "      <td>64.332936</td>\n",
              "      <td>34.970077</td>\n",
              "      <td>29.949277</td>\n",
              "      <td>33.448715</td>\n",
              "      <td>58.856170</td>\n",
              "      <td>35.274349</td>\n",
              "      <td>70.722723</td>\n",
              "      <td>36.187166</td>\n",
              "      <td>36.034723</td>\n",
              "      <td>34.361532</td>\n",
              "      <td>24.472511</td>\n",
              "      <td>33.144443</td>\n",
              "      <td>53.987404</td>\n",
              "      <td>28.275949</td>\n",
              "      <td>78.634213</td>\n",
              "      <td>30.405923</td>\n",
              "      <td>42.728851</td>\n",
              "      <td>26.146043</td>\n",
              "      <td>16.865362</td>\n",
              "      <td>27.058860</td>\n",
              "      <td>48.206298</td>\n",
              "      <td>55.660936</td>\n",
              "      <td>56.421447</td>\n",
              "      <td>76.352000</td>\n",
              "      <td>35.122383</td>\n",
              "      <td>76.047660</td>\n",
              "      <td>46.684596</td>\n",
              "      <td>70.266553</td>\n",
              "      <td>45.467915</td>\n",
              "      <td>85.480170</td>\n",
              "    </tr>\n",
              "    <tr>\n",
              "      <th>2</th>\n",
              "      <td>65.057053</td>\n",
              "      <td>34.909642</td>\n",
              "      <td>30.903789</td>\n",
              "      <td>34.909642</td>\n",
              "      <td>59.412000</td>\n",
              "      <td>36.320968</td>\n",
              "      <td>70.984421</td>\n",
              "      <td>36.320968</td>\n",
              "      <td>37.678105</td>\n",
              "      <td>36.320968</td>\n",
              "      <td>24.976421</td>\n",
              "      <td>36.603221</td>\n",
              "      <td>55.742526</td>\n",
              "      <td>27.570947</td>\n",
              "      <td>78.887368</td>\n",
              "      <td>32.651621</td>\n",
              "      <td>42.193895</td>\n",
              "      <td>28.135453</td>\n",
              "      <td>16.791158</td>\n",
              "      <td>32.087116</td>\n",
              "      <td>47.557263</td>\n",
              "      <td>53.538947</td>\n",
              "      <td>60.822947</td>\n",
              "      <td>73.014316</td>\n",
              "      <td>33.726316</td>\n",
              "      <td>72.732000</td>\n",
              "      <td>47.274947</td>\n",
              "      <td>70.191789</td>\n",
              "      <td>47.274947</td>\n",
              "      <td>78.659368</td>\n",
              "    </tr>\n",
              "    <tr>\n",
              "      <th>3</th>\n",
              "      <td>65.225739</td>\n",
              "      <td>37.261774</td>\n",
              "      <td>32.023096</td>\n",
              "      <td>37.261774</td>\n",
              "      <td>60.003339</td>\n",
              "      <td>39.127179</td>\n",
              "      <td>72.314713</td>\n",
              "      <td>38.380967</td>\n",
              "      <td>37.618643</td>\n",
              "      <td>38.754115</td>\n",
              "      <td>25.307270</td>\n",
              "      <td>38.007903</td>\n",
              "      <td>56.433809</td>\n",
              "      <td>30.929864</td>\n",
              "      <td>77.910261</td>\n",
              "      <td>31.665725</td>\n",
              "      <td>41.671513</td>\n",
              "      <td>31.049990</td>\n",
              "      <td>20.458017</td>\n",
              "      <td>29.909343</td>\n",
              "      <td>51.885078</td>\n",
              "      <td>54.166539</td>\n",
              "      <td>65.598887</td>\n",
              "      <td>72.703722</td>\n",
              "      <td>37.245496</td>\n",
              "      <td>74.195478</td>\n",
              "      <td>50.303165</td>\n",
              "      <td>70.091687</td>\n",
              "      <td>51.561183</td>\n",
              "      <td>78.268383</td>\n",
              "    </tr>\n",
              "    <tr>\n",
              "      <th>4</th>\n",
              "      <td>66.725301</td>\n",
              "      <td>39.621261</td>\n",
              "      <td>32.244810</td>\n",
              "      <td>38.042032</td>\n",
              "      <td>58.565890</td>\n",
              "      <td>39.621261</td>\n",
              "      <td>72.515926</td>\n",
              "      <td>39.884466</td>\n",
              "      <td>36.982380</td>\n",
              "      <td>39.094852</td>\n",
              "      <td>22.506110</td>\n",
              "      <td>38.305237</td>\n",
              "      <td>57.249571</td>\n",
              "      <td>30.672177</td>\n",
              "      <td>77.762945</td>\n",
              "      <td>31.737247</td>\n",
              "      <td>38.035436</td>\n",
              "      <td>30.935382</td>\n",
              "      <td>15.925870</td>\n",
              "      <td>30.672177</td>\n",
              "      <td>43.299534</td>\n",
              "      <td>64.889521</td>\n",
              "      <td>60.671411</td>\n",
              "      <td>77.523239</td>\n",
              "      <td>31.191755</td>\n",
              "      <td>76.997301</td>\n",
              "      <td>44.962748</td>\n",
              "      <td>73.707387</td>\n",
              "      <td>44.227141</td>\n",
              "      <td>86.871166</td>\n",
              "    </tr>\n",
              "  </tbody>\n",
              "</table>\n",
              "</div>"
            ],
            "text/plain": [
              "   left_eye_center_x  ...  mouth_center_bottom_lip_y\n",
              "0          66.033564  ...                  84.485774\n",
              "1          64.332936  ...                  85.480170\n",
              "2          65.057053  ...                  78.659368\n",
              "3          65.225739  ...                  78.268383\n",
              "4          66.725301  ...                  86.871166\n",
              "\n",
              "[5 rows x 30 columns]"
            ]
          },
          "metadata": {
            "tags": []
          },
          "execution_count": 17
        }
      ]
    },
    {
      "cell_type": "code",
      "metadata": {
        "id": "DtvjgiQcKI3H"
      },
      "source": [
        "y_train = []\n",
        "for i in range(0,7049):\n",
        "    y = training.iloc[i,:]\n",
        "    y_train.append(y)\n",
        "ytrain = np.array(y_train,dtype = 'float')"
      ],
      "execution_count": null,
      "outputs": []
    },
    {
      "cell_type": "code",
      "metadata": {
        "id": "QUBaWuKVdPdu"
      },
      "source": [
        "x_train = images"
      ],
      "execution_count": null,
      "outputs": []
    },
    {
      "cell_type": "markdown",
      "metadata": {
        "id": "TcNvQW3yKm8-"
      },
      "source": [
        "training the model for feature detection with Keras"
      ]
    },
    {
      "cell_type": "code",
      "metadata": {
        "id": "iLKbqikPfeGG"
      },
      "source": [
        "import seaborn as sns\n",
        "import pickle\n",
        "from PIL import *\n",
        "import cv2\n",
        "import tensorflow as tf\n",
        "from tensorflow import keras\n",
        "from tensorflow.keras.applications import DenseNet121\n",
        "from tensorflow.keras.models import Model, load_model\n",
        "from tensorflow.keras.initializers import glorot_uniform\n",
        "from tensorflow.keras.utils import plot_model\n",
        "from tensorflow.keras.callbacks import ReduceLROnPlateau, EarlyStopping, ModelCheckpoint, LearningRateScheduler\n",
        "from IPython.display import display\n",
        "from tensorflow.python.keras import *\n",
        "from tensorflow.keras.preprocessing.image import ImageDataGenerator\n",
        "from tensorflow.keras import layers, optimizers\n",
        "from tensorflow.keras.applications.resnet50 import ResNet50\n",
        "from tensorflow.keras.layers import *\n",
        "from tensorflow.keras import backend as K\n",
        "from keras import optimizers\n",
        "import matplotlib.pyplot as plt\n",
        "from sklearn.model_selection import train_test_split"
      ],
      "execution_count": null,
      "outputs": []
    },
    {
      "cell_type": "code",
      "metadata": {
        "id": "PIvuFYDZfWjJ",
        "colab": {
          "base_uri": "https://localhost:8080/"
        },
        "outputId": "186ebf15-48cb-432a-c7d3-396869dc8a82"
      },
      "source": [
        "model = Sequential()\n",
        "# model.add(Dense(30, activation='softmax'))\n",
        "model.add(Convolution2D(32, (3, 3) ,activation='relu', input_shape=(96, 96, 1)))\n",
        "model.add(Convolution2D(32, (3, 3) , padding=\"same\",activation='relu'))\n",
        "model.add(BatchNormalization())\n",
        "model.add(MaxPooling2D(pool_size=(2, 2)))\n",
        "model.add(Convolution2D(64, (3, 3) , padding=\"same\",activation='relu'))\n",
        "model.add(BatchNormalization())\n",
        "model.add(MaxPooling2D(pool_size=(2, 2)))\n",
        "model.add(Convolution2D(64, (3, 3) , padding=\"same\",activation='relu'))\n",
        "model.add(BatchNormalization())\n",
        "model.add(MaxPooling2D(pool_size=(2, 2)))\n",
        "model.add(Convolution2D(128, (3, 3) , padding=\"same\",activation='relu'))\n",
        "model.add(BatchNormalization())\n",
        "model.add(MaxPooling2D(pool_size=(2, 2)))\n",
        "model.add(Dropout(0.25))\n",
        "model.add(Flatten())\n",
        "model.add(Dense(128, activation='relu'))\n",
        "model.add(Dropout(0.25))\n",
        "model.add(Dense(128, activation='relu'))\n",
        "model.add(Dense(30, activation='relu'))\n",
        "model.summary()"
      ],
      "execution_count": null,
      "outputs": [
        {
          "output_type": "stream",
          "text": [
            "Model: \"sequential\"\n",
            "_________________________________________________________________\n",
            "Layer (type)                 Output Shape              Param #   \n",
            "=================================================================\n",
            "conv2d (Conv2D)              (None, 94, 94, 32)        320       \n",
            "_________________________________________________________________\n",
            "conv2d_1 (Conv2D)            (None, 94, 94, 32)        9248      \n",
            "_________________________________________________________________\n",
            "batch_normalization (BatchNo (None, 94, 94, 32)        128       \n",
            "_________________________________________________________________\n",
            "max_pooling2d (MaxPooling2D) (None, 47, 47, 32)        0         \n",
            "_________________________________________________________________\n",
            "conv2d_2 (Conv2D)            (None, 47, 47, 64)        18496     \n",
            "_________________________________________________________________\n",
            "batch_normalization_1 (Batch (None, 47, 47, 64)        256       \n",
            "_________________________________________________________________\n",
            "max_pooling2d_1 (MaxPooling2 (None, 23, 23, 64)        0         \n",
            "_________________________________________________________________\n",
            "conv2d_3 (Conv2D)            (None, 23, 23, 64)        36928     \n",
            "_________________________________________________________________\n",
            "batch_normalization_2 (Batch (None, 23, 23, 64)        256       \n",
            "_________________________________________________________________\n",
            "max_pooling2d_2 (MaxPooling2 (None, 11, 11, 64)        0         \n",
            "_________________________________________________________________\n",
            "conv2d_4 (Conv2D)            (None, 11, 11, 128)       73856     \n",
            "_________________________________________________________________\n",
            "batch_normalization_3 (Batch (None, 11, 11, 128)       512       \n",
            "_________________________________________________________________\n",
            "max_pooling2d_3 (MaxPooling2 (None, 5, 5, 128)         0         \n",
            "_________________________________________________________________\n",
            "dropout (Dropout)            (None, 5, 5, 128)         0         \n",
            "_________________________________________________________________\n",
            "flatten (Flatten)            (None, 3200)              0         \n",
            "_________________________________________________________________\n",
            "dense (Dense)                (None, 128)               409728    \n",
            "_________________________________________________________________\n",
            "dropout_1 (Dropout)          (None, 128)               0         \n",
            "_________________________________________________________________\n",
            "dense_1 (Dense)              (None, 128)               16512     \n",
            "_________________________________________________________________\n",
            "dense_2 (Dense)              (None, 30)                3870      \n",
            "=================================================================\n",
            "Total params: 570,110\n",
            "Trainable params: 569,534\n",
            "Non-trainable params: 576\n",
            "_________________________________________________________________\n"
          ],
          "name": "stdout"
        }
      ]
    },
    {
      "cell_type": "code",
      "metadata": {
        "id": "xIwG7pmkgSJc"
      },
      "source": [
        "mmodel.compile(loss='mse',\n",
        "              optimizer='adam',\n",
        "              metrics=['mae',\"accuracy\"])"
      ],
      "execution_count": null,
      "outputs": []
    },
    {
      "cell_type": "code",
      "metadata": {
        "id": "4sDzW2i9gatN",
        "colab": {
          "base_uri": "https://localhost:8080/"
        },
        "outputId": "2f98af69-1da1-4d1d-8f7f-3d830512898d"
      },
      "source": [
        "images=images.reshape(-1,96,96,1)\n",
        "images.shape"
      ],
      "execution_count": null,
      "outputs": [
        {
          "output_type": "execute_result",
          "data": {
            "text/plain": [
              "(7049, 96, 96, 1)"
            ]
          },
          "metadata": {
            "tags": []
          },
          "execution_count": 23
        }
      ]
    },
    {
      "cell_type": "code",
      "metadata": {
        "id": "OYb18so6ggoo",
        "colab": {
          "base_uri": "https://localhost:8080/"
        },
        "outputId": "7e22ff7f-b92c-4979-befc-cd483042ebbb"
      },
      "source": [
        "history = model.fit(images, ytrain,epochs = 100,batch_size = 256,validation_split = 0.1)"
      ],
      "execution_count": null,
      "outputs": [
        {
          "output_type": "stream",
          "text": [
            "Epoch 1/100\n",
            "25/25 [==============================] - 44s 465ms/step - loss: 1651.7038 - mae: 33.5523 - accuracy: 0.2784 - val_loss: 2361.3059 - val_mae: 45.1297 - val_accuracy: 0.5986\n",
            "Epoch 2/100\n",
            "25/25 [==============================] - 8s 304ms/step - loss: 333.4024 - mae: 11.3819 - accuracy: 0.1966 - val_loss: 1350.7997 - val_mae: 33.6651 - val_accuracy: 0.5986\n",
            "Epoch 3/100\n",
            "25/25 [==============================] - 8s 303ms/step - loss: 280.4158 - mae: 9.1801 - accuracy: 0.3976 - val_loss: 839.3110 - val_mae: 25.7397 - val_accuracy: 0.5986\n",
            "Epoch 4/100\n",
            "25/25 [==============================] - 8s 302ms/step - loss: 230.7643 - mae: 8.3640 - accuracy: 0.3966 - val_loss: 402.8928 - val_mae: 17.8549 - val_accuracy: 0.5986\n",
            "Epoch 5/100\n",
            "25/25 [==============================] - 8s 302ms/step - loss: 98.8172 - mae: 6.6181 - accuracy: 0.2524 - val_loss: 477.5498 - val_mae: 19.8238 - val_accuracy: 0.5844\n",
            "Epoch 6/100\n",
            "25/25 [==============================] - 8s 302ms/step - loss: 89.9074 - mae: 6.1652 - accuracy: 0.4211 - val_loss: 376.2625 - val_mae: 17.4648 - val_accuracy: 0.5986\n",
            "Epoch 7/100\n",
            "25/25 [==============================] - 8s 302ms/step - loss: 89.0807 - mae: 6.1037 - accuracy: 0.4405 - val_loss: 314.3311 - val_mae: 15.7847 - val_accuracy: 0.5901\n",
            "Epoch 8/100\n",
            "25/25 [==============================] - 8s 302ms/step - loss: 85.9611 - mae: 5.9065 - accuracy: 0.4777 - val_loss: 428.1303 - val_mae: 18.7426 - val_accuracy: 0.5801\n",
            "Epoch 9/100\n",
            "25/25 [==============================] - 8s 301ms/step - loss: 82.9523 - mae: 5.7225 - accuracy: 0.4573 - val_loss: 489.9497 - val_mae: 20.1951 - val_accuracy: 0.5844\n",
            "Epoch 10/100\n",
            "25/25 [==============================] - 8s 302ms/step - loss: 80.4387 - mae: 5.5456 - accuracy: 0.4900 - val_loss: 381.0620 - val_mae: 17.6369 - val_accuracy: 0.5773\n",
            "Epoch 11/100\n",
            "25/25 [==============================] - 8s 300ms/step - loss: 81.9461 - mae: 5.6470 - accuracy: 0.4960 - val_loss: 440.0842 - val_mae: 19.1132 - val_accuracy: 0.5759\n",
            "Epoch 12/100\n",
            "25/25 [==============================] - 8s 302ms/step - loss: 78.2567 - mae: 5.3749 - accuracy: 0.4901 - val_loss: 489.9714 - val_mae: 20.2675 - val_accuracy: 0.5688\n",
            "Epoch 13/100\n",
            "25/25 [==============================] - 8s 301ms/step - loss: 78.5350 - mae: 5.3771 - accuracy: 0.4948 - val_loss: 471.9796 - val_mae: 19.8295 - val_accuracy: 0.5730\n",
            "Epoch 14/100\n",
            "25/25 [==============================] - 8s 301ms/step - loss: 78.5581 - mae: 5.3687 - accuracy: 0.5126 - val_loss: 438.8942 - val_mae: 19.0847 - val_accuracy: 0.5716\n",
            "Epoch 15/100\n",
            "25/25 [==============================] - 8s 302ms/step - loss: 78.6503 - mae: 5.3691 - accuracy: 0.5232 - val_loss: 453.1544 - val_mae: 19.4581 - val_accuracy: 0.5631\n",
            "Epoch 16/100\n",
            "25/25 [==============================] - 8s 302ms/step - loss: 75.9402 - mae: 5.2038 - accuracy: 0.5110 - val_loss: 390.2188 - val_mae: 17.8344 - val_accuracy: 0.5816\n",
            "Epoch 17/100\n",
            "25/25 [==============================] - 8s 303ms/step - loss: 75.0752 - mae: 5.1300 - accuracy: 0.5285 - val_loss: 410.4046 - val_mae: 18.3480 - val_accuracy: 0.5688\n",
            "Epoch 18/100\n",
            "25/25 [==============================] - 8s 301ms/step - loss: 73.2351 - mae: 4.9939 - accuracy: 0.5418 - val_loss: 346.2778 - val_mae: 16.8341 - val_accuracy: 0.5631\n",
            "Epoch 19/100\n",
            "25/25 [==============================] - 8s 302ms/step - loss: 72.4908 - mae: 4.9319 - accuracy: 0.5430 - val_loss: 360.3236 - val_mae: 17.1594 - val_accuracy: 0.5532\n",
            "Epoch 20/100\n",
            "25/25 [==============================] - 8s 301ms/step - loss: 71.4662 - mae: 4.8798 - accuracy: 0.5528 - val_loss: 322.0052 - val_mae: 16.1382 - val_accuracy: 0.5787\n",
            "Epoch 21/100\n",
            "25/25 [==============================] - 8s 303ms/step - loss: 70.9260 - mae: 4.8024 - accuracy: 0.5760 - val_loss: 289.0710 - val_mae: 15.2990 - val_accuracy: 0.5546\n",
            "Epoch 22/100\n",
            "25/25 [==============================] - 8s 303ms/step - loss: 69.9054 - mae: 4.7171 - accuracy: 0.5622 - val_loss: 269.8796 - val_mae: 14.7274 - val_accuracy: 0.5730\n",
            "Epoch 23/100\n",
            "25/25 [==============================] - 8s 302ms/step - loss: 68.5239 - mae: 4.6340 - accuracy: 0.5784 - val_loss: 298.0390 - val_mae: 15.5809 - val_accuracy: 0.5887\n",
            "Epoch 24/100\n",
            "25/25 [==============================] - 8s 303ms/step - loss: 70.2078 - mae: 4.7171 - accuracy: 0.5818 - val_loss: 218.4504 - val_mae: 13.0148 - val_accuracy: 0.5915\n",
            "Epoch 25/100\n",
            "25/25 [==============================] - 8s 302ms/step - loss: 67.1637 - mae: 4.4801 - accuracy: 0.6200 - val_loss: 229.0772 - val_mae: 13.4241 - val_accuracy: 0.5887\n",
            "Epoch 26/100\n",
            "25/25 [==============================] - 8s 303ms/step - loss: 66.5767 - mae: 4.3937 - accuracy: 0.6031 - val_loss: 218.0233 - val_mae: 13.0378 - val_accuracy: 0.5844\n",
            "Epoch 27/100\n",
            "25/25 [==============================] - 8s 302ms/step - loss: 66.1107 - mae: 4.3758 - accuracy: 0.6004 - val_loss: 237.1474 - val_mae: 13.7549 - val_accuracy: 0.5844\n",
            "Epoch 28/100\n",
            "25/25 [==============================] - 8s 303ms/step - loss: 65.7055 - mae: 4.2863 - accuracy: 0.6131 - val_loss: 227.1310 - val_mae: 13.4344 - val_accuracy: 0.5730\n",
            "Epoch 29/100\n",
            "25/25 [==============================] - 8s 303ms/step - loss: 64.7651 - mae: 4.2268 - accuracy: 0.6329 - val_loss: 195.6918 - val_mae: 12.2509 - val_accuracy: 0.5787\n",
            "Epoch 30/100\n",
            "25/25 [==============================] - 8s 303ms/step - loss: 63.2322 - mae: 4.0782 - accuracy: 0.6418 - val_loss: 187.4571 - val_mae: 11.9389 - val_accuracy: 0.5688\n",
            "Epoch 31/100\n",
            "25/25 [==============================] - 8s 302ms/step - loss: 61.6232 - mae: 3.9199 - accuracy: 0.6549 - val_loss: 197.4140 - val_mae: 12.3500 - val_accuracy: 0.5901\n",
            "Epoch 32/100\n",
            "25/25 [==============================] - 8s 303ms/step - loss: 54.4755 - mae: 3.8207 - accuracy: 0.6428 - val_loss: 133.3204 - val_mae: 10.5414 - val_accuracy: 0.6014\n",
            "Epoch 33/100\n",
            "25/25 [==============================] - 8s 303ms/step - loss: 16.9486 - mae: 2.9632 - accuracy: 0.6455 - val_loss: 127.8848 - val_mae: 10.3408 - val_accuracy: 0.6057\n",
            "Epoch 34/100\n",
            "25/25 [==============================] - 8s 303ms/step - loss: 14.2280 - mae: 2.6920 - accuracy: 0.6597 - val_loss: 212.5139 - val_mae: 13.4482 - val_accuracy: 0.6085\n",
            "Epoch 35/100\n",
            "25/25 [==============================] - 8s 301ms/step - loss: 13.8097 - mae: 2.6267 - accuracy: 0.6867 - val_loss: 178.4670 - val_mae: 12.3306 - val_accuracy: 0.6227\n",
            "Epoch 36/100\n",
            "25/25 [==============================] - 8s 302ms/step - loss: 13.1735 - mae: 2.5768 - accuracy: 0.6860 - val_loss: 161.1033 - val_mae: 11.6847 - val_accuracy: 0.6170\n",
            "Epoch 37/100\n",
            "25/25 [==============================] - 8s 302ms/step - loss: 13.2910 - mae: 2.5530 - accuracy: 0.6816 - val_loss: 163.7432 - val_mae: 11.7731 - val_accuracy: 0.6142\n",
            "Epoch 38/100\n",
            "25/25 [==============================] - 8s 303ms/step - loss: 13.1680 - mae: 2.5655 - accuracy: 0.6888 - val_loss: 141.3102 - val_mae: 10.9398 - val_accuracy: 0.6270\n",
            "Epoch 39/100\n",
            "25/25 [==============================] - 8s 303ms/step - loss: 12.4243 - mae: 2.4738 - accuracy: 0.6907 - val_loss: 158.7798 - val_mae: 11.6144 - val_accuracy: 0.6284\n",
            "Epoch 40/100\n",
            "25/25 [==============================] - 8s 303ms/step - loss: 12.4187 - mae: 2.4678 - accuracy: 0.6863 - val_loss: 160.1424 - val_mae: 11.6442 - val_accuracy: 0.6184\n",
            "Epoch 41/100\n",
            "25/25 [==============================] - 8s 303ms/step - loss: 12.0828 - mae: 2.4336 - accuracy: 0.6966 - val_loss: 159.0317 - val_mae: 11.5976 - val_accuracy: 0.6355\n",
            "Epoch 42/100\n",
            "25/25 [==============================] - 8s 302ms/step - loss: 11.5695 - mae: 2.3798 - accuracy: 0.6956 - val_loss: 139.4276 - val_mae: 10.8401 - val_accuracy: 0.6340\n",
            "Epoch 43/100\n",
            "25/25 [==============================] - 8s 303ms/step - loss: 11.9368 - mae: 2.4002 - accuracy: 0.7036 - val_loss: 147.0895 - val_mae: 11.1500 - val_accuracy: 0.6383\n",
            "Epoch 44/100\n",
            "25/25 [==============================] - 8s 303ms/step - loss: 10.9655 - mae: 2.3146 - accuracy: 0.7088 - val_loss: 165.2601 - val_mae: 11.8271 - val_accuracy: 0.6369\n",
            "Epoch 45/100\n",
            "25/25 [==============================] - 8s 303ms/step - loss: 11.5058 - mae: 2.3476 - accuracy: 0.7076 - val_loss: 207.1617 - val_mae: 13.2638 - val_accuracy: 0.6496\n",
            "Epoch 46/100\n",
            "25/25 [==============================] - 8s 302ms/step - loss: 10.7140 - mae: 2.2873 - accuracy: 0.7092 - val_loss: 184.6362 - val_mae: 12.5269 - val_accuracy: 0.6582\n",
            "Epoch 47/100\n",
            "25/25 [==============================] - 8s 303ms/step - loss: 11.1015 - mae: 2.2713 - accuracy: 0.7166 - val_loss: 173.2038 - val_mae: 12.0614 - val_accuracy: 0.6383\n",
            "Epoch 48/100\n",
            "25/25 [==============================] - 8s 303ms/step - loss: 10.4851 - mae: 2.2171 - accuracy: 0.7237 - val_loss: 177.0929 - val_mae: 12.2659 - val_accuracy: 0.6766\n",
            "Epoch 49/100\n",
            "25/25 [==============================] - 8s 304ms/step - loss: 10.0962 - mae: 2.1999 - accuracy: 0.7183 - val_loss: 212.5323 - val_mae: 13.4700 - val_accuracy: 0.6766\n",
            "Epoch 50/100\n",
            "25/25 [==============================] - 8s 302ms/step - loss: 10.5724 - mae: 2.2685 - accuracy: 0.7360 - val_loss: 147.6749 - val_mae: 11.1707 - val_accuracy: 0.6752\n",
            "Epoch 51/100\n",
            "25/25 [==============================] - 8s 303ms/step - loss: 10.2529 - mae: 2.2024 - accuracy: 0.7203 - val_loss: 165.9100 - val_mae: 11.8445 - val_accuracy: 0.6610\n",
            "Epoch 52/100\n",
            "25/25 [==============================] - 8s 302ms/step - loss: 10.3562 - mae: 2.2213 - accuracy: 0.7068 - val_loss: 175.3774 - val_mae: 12.2047 - val_accuracy: 0.6496\n",
            "Epoch 53/100\n",
            "25/25 [==============================] - 8s 302ms/step - loss: 10.0671 - mae: 2.1378 - accuracy: 0.7204 - val_loss: 170.0794 - val_mae: 12.0048 - val_accuracy: 0.6681\n",
            "Epoch 54/100\n",
            "25/25 [==============================] - 8s 302ms/step - loss: 9.3017 - mae: 2.0942 - accuracy: 0.7233 - val_loss: 172.9923 - val_mae: 12.0844 - val_accuracy: 0.6709\n",
            "Epoch 55/100\n",
            "25/25 [==============================] - 8s 302ms/step - loss: 9.4510 - mae: 2.1145 - accuracy: 0.7363 - val_loss: 160.5076 - val_mae: 11.6724 - val_accuracy: 0.6894\n",
            "Epoch 56/100\n",
            "25/25 [==============================] - 8s 302ms/step - loss: 9.4823 - mae: 2.0950 - accuracy: 0.7343 - val_loss: 161.5063 - val_mae: 11.6698 - val_accuracy: 0.6894\n",
            "Epoch 57/100\n",
            "25/25 [==============================] - 8s 303ms/step - loss: 8.9737 - mae: 2.0616 - accuracy: 0.7359 - val_loss: 163.5210 - val_mae: 11.7738 - val_accuracy: 0.6908\n",
            "Epoch 58/100\n",
            "25/25 [==============================] - 8s 303ms/step - loss: 9.3203 - mae: 2.0762 - accuracy: 0.7272 - val_loss: 139.3445 - val_mae: 10.8036 - val_accuracy: 0.6809\n",
            "Epoch 59/100\n",
            "25/25 [==============================] - 8s 302ms/step - loss: 9.5487 - mae: 2.0962 - accuracy: 0.7363 - val_loss: 173.3900 - val_mae: 12.1098 - val_accuracy: 0.6610\n",
            "Epoch 60/100\n",
            "25/25 [==============================] - 8s 302ms/step - loss: 8.8872 - mae: 2.0460 - accuracy: 0.7388 - val_loss: 168.9389 - val_mae: 11.9791 - val_accuracy: 0.6894\n",
            "Epoch 61/100\n",
            "25/25 [==============================] - 8s 302ms/step - loss: 9.1949 - mae: 2.0673 - accuracy: 0.7474 - val_loss: 160.0032 - val_mae: 11.6175 - val_accuracy: 0.7021\n",
            "Epoch 62/100\n",
            "25/25 [==============================] - 8s 302ms/step - loss: 8.7403 - mae: 2.0195 - accuracy: 0.7470 - val_loss: 165.6045 - val_mae: 11.7880 - val_accuracy: 0.6525\n",
            "Epoch 63/100\n",
            "25/25 [==============================] - 8s 303ms/step - loss: 8.9016 - mae: 2.0287 - accuracy: 0.7478 - val_loss: 177.8790 - val_mae: 12.2974 - val_accuracy: 0.6950\n",
            "Epoch 64/100\n",
            "25/25 [==============================] - 8s 302ms/step - loss: 8.9006 - mae: 2.0187 - accuracy: 0.7456 - val_loss: 165.8070 - val_mae: 11.8197 - val_accuracy: 0.6652\n",
            "Epoch 65/100\n",
            "25/25 [==============================] - 8s 303ms/step - loss: 8.6902 - mae: 2.0007 - accuracy: 0.7513 - val_loss: 171.6483 - val_mae: 12.0727 - val_accuracy: 0.6525\n",
            "Epoch 66/100\n",
            "25/25 [==============================] - 8s 302ms/step - loss: 9.1191 - mae: 2.0319 - accuracy: 0.7390 - val_loss: 180.1837 - val_mae: 12.3746 - val_accuracy: 0.6823\n",
            "Epoch 67/100\n",
            "25/25 [==============================] - 8s 302ms/step - loss: 8.4112 - mae: 1.9759 - accuracy: 0.7460 - val_loss: 243.0886 - val_mae: 14.3387 - val_accuracy: 0.6596\n",
            "Epoch 68/100\n",
            "25/25 [==============================] - 8s 301ms/step - loss: 8.5828 - mae: 1.9890 - accuracy: 0.7382 - val_loss: 177.4568 - val_mae: 12.2400 - val_accuracy: 0.6766\n",
            "Epoch 69/100\n",
            "25/25 [==============================] - 8s 302ms/step - loss: 8.8194 - mae: 2.0071 - accuracy: 0.7405 - val_loss: 158.4892 - val_mae: 11.5344 - val_accuracy: 0.7064\n",
            "Epoch 70/100\n",
            "25/25 [==============================] - 8s 303ms/step - loss: 9.1364 - mae: 2.0371 - accuracy: 0.7338 - val_loss: 198.1732 - val_mae: 12.9984 - val_accuracy: 0.7035\n",
            "Epoch 71/100\n",
            "25/25 [==============================] - 8s 304ms/step - loss: 8.6691 - mae: 1.9643 - accuracy: 0.7510 - val_loss: 165.0426 - val_mae: 11.8089 - val_accuracy: 0.7078\n",
            "Epoch 72/100\n",
            "25/25 [==============================] - 8s 303ms/step - loss: 8.5207 - mae: 1.9646 - accuracy: 0.7604 - val_loss: 174.7023 - val_mae: 12.1691 - val_accuracy: 0.7035\n",
            "Epoch 73/100\n",
            "25/25 [==============================] - 8s 303ms/step - loss: 8.5591 - mae: 1.9798 - accuracy: 0.7534 - val_loss: 161.2146 - val_mae: 11.6684 - val_accuracy: 0.6894\n",
            "Epoch 74/100\n",
            "25/25 [==============================] - 8s 303ms/step - loss: 8.8846 - mae: 1.9867 - accuracy: 0.7527 - val_loss: 146.5051 - val_mae: 11.0778 - val_accuracy: 0.7007\n",
            "Epoch 75/100\n",
            "25/25 [==============================] - 8s 303ms/step - loss: 8.6616 - mae: 1.9557 - accuracy: 0.7594 - val_loss: 172.4153 - val_mae: 12.0802 - val_accuracy: 0.7007\n",
            "Epoch 76/100\n",
            "25/25 [==============================] - 8s 302ms/step - loss: 8.1504 - mae: 1.9122 - accuracy: 0.7626 - val_loss: 206.8169 - val_mae: 13.2418 - val_accuracy: 0.6681\n",
            "Epoch 77/100\n",
            "25/25 [==============================] - 8s 302ms/step - loss: 8.0590 - mae: 1.9197 - accuracy: 0.7533 - val_loss: 156.6060 - val_mae: 11.4860 - val_accuracy: 0.6936\n",
            "Epoch 78/100\n",
            "25/25 [==============================] - 8s 302ms/step - loss: 7.8424 - mae: 1.9018 - accuracy: 0.7616 - val_loss: 170.1772 - val_mae: 12.0050 - val_accuracy: 0.6922\n",
            "Epoch 79/100\n",
            "25/25 [==============================] - 8s 303ms/step - loss: 8.1802 - mae: 1.9202 - accuracy: 0.7530 - val_loss: 148.8086 - val_mae: 11.2157 - val_accuracy: 0.7078\n",
            "Epoch 80/100\n",
            "25/25 [==============================] - 8s 302ms/step - loss: 8.3714 - mae: 1.9505 - accuracy: 0.7630 - val_loss: 140.7318 - val_mae: 10.8988 - val_accuracy: 0.6993\n",
            "Epoch 81/100\n",
            "25/25 [==============================] - 8s 303ms/step - loss: 8.0940 - mae: 1.9446 - accuracy: 0.7705 - val_loss: 196.5388 - val_mae: 12.9345 - val_accuracy: 0.6624\n",
            "Epoch 82/100\n",
            "25/25 [==============================] - 8s 303ms/step - loss: 7.5179 - mae: 1.8683 - accuracy: 0.7645 - val_loss: 158.9139 - val_mae: 11.6052 - val_accuracy: 0.6936\n",
            "Epoch 83/100\n",
            "25/25 [==============================] - 8s 302ms/step - loss: 7.7734 - mae: 1.8585 - accuracy: 0.7531 - val_loss: 163.4930 - val_mae: 11.7456 - val_accuracy: 0.6695\n",
            "Epoch 84/100\n",
            "25/25 [==============================] - 8s 302ms/step - loss: 7.7332 - mae: 1.8753 - accuracy: 0.7544 - val_loss: 216.1647 - val_mae: 13.5430 - val_accuracy: 0.7277\n",
            "Epoch 85/100\n",
            "25/25 [==============================] - 8s 303ms/step - loss: 7.3544 - mae: 1.8410 - accuracy: 0.7634 - val_loss: 145.1542 - val_mae: 11.0308 - val_accuracy: 0.6794\n",
            "Epoch 86/100\n",
            "25/25 [==============================] - 8s 302ms/step - loss: 7.0097 - mae: 1.8165 - accuracy: 0.7653 - val_loss: 184.1168 - val_mae: 12.5408 - val_accuracy: 0.6851\n",
            "Epoch 87/100\n",
            "25/25 [==============================] - 8s 302ms/step - loss: 7.4894 - mae: 1.8459 - accuracy: 0.7570 - val_loss: 162.9542 - val_mae: 11.7498 - val_accuracy: 0.6553\n",
            "Epoch 88/100\n",
            "25/25 [==============================] - 8s 303ms/step - loss: 8.0447 - mae: 1.8913 - accuracy: 0.7704 - val_loss: 179.9933 - val_mae: 12.3585 - val_accuracy: 0.6681\n",
            "Epoch 89/100\n",
            "25/25 [==============================] - 8s 303ms/step - loss: 7.5939 - mae: 1.8932 - accuracy: 0.7637 - val_loss: 162.8613 - val_mae: 11.7568 - val_accuracy: 0.6709\n",
            "Epoch 90/100\n",
            "25/25 [==============================] - 8s 303ms/step - loss: 6.9251 - mae: 1.7699 - accuracy: 0.7584 - val_loss: 202.1543 - val_mae: 13.1568 - val_accuracy: 0.7092\n",
            "Epoch 91/100\n",
            "25/25 [==============================] - 8s 303ms/step - loss: 6.7542 - mae: 1.7674 - accuracy: 0.7644 - val_loss: 179.1684 - val_mae: 12.3182 - val_accuracy: 0.6582\n",
            "Epoch 92/100\n",
            "25/25 [==============================] - 8s 302ms/step - loss: 6.6052 - mae: 1.7551 - accuracy: 0.7644 - val_loss: 207.1639 - val_mae: 13.2521 - val_accuracy: 0.6496\n",
            "Epoch 93/100\n",
            "25/25 [==============================] - 8s 302ms/step - loss: 6.8469 - mae: 1.7792 - accuracy: 0.7674 - val_loss: 177.4755 - val_mae: 12.2921 - val_accuracy: 0.6511\n",
            "Epoch 94/100\n",
            "25/25 [==============================] - 8s 302ms/step - loss: 7.3512 - mae: 1.8067 - accuracy: 0.7633 - val_loss: 204.4112 - val_mae: 13.2061 - val_accuracy: 0.7135\n",
            "Epoch 95/100\n",
            "25/25 [==============================] - 8s 302ms/step - loss: 7.0608 - mae: 1.8340 - accuracy: 0.7710 - val_loss: 169.8812 - val_mae: 11.9804 - val_accuracy: 0.7149\n",
            "Epoch 96/100\n",
            "25/25 [==============================] - 8s 303ms/step - loss: 6.6987 - mae: 1.7395 - accuracy: 0.7745 - val_loss: 201.7772 - val_mae: 13.1219 - val_accuracy: 0.6837\n",
            "Epoch 97/100\n",
            "25/25 [==============================] - 8s 303ms/step - loss: 6.3682 - mae: 1.7077 - accuracy: 0.7776 - val_loss: 168.1081 - val_mae: 11.8919 - val_accuracy: 0.7092\n",
            "Epoch 98/100\n",
            "25/25 [==============================] - 8s 301ms/step - loss: 7.1988 - mae: 1.7901 - accuracy: 0.7623 - val_loss: 169.7680 - val_mae: 11.9777 - val_accuracy: 0.6667\n",
            "Epoch 99/100\n",
            "25/25 [==============================] - 8s 302ms/step - loss: 6.1045 - mae: 1.6858 - accuracy: 0.7767 - val_loss: 177.1134 - val_mae: 12.2332 - val_accuracy: 0.6950\n",
            "Epoch 100/100\n",
            "25/25 [==============================] - 8s 302ms/step - loss: 6.5119 - mae: 1.7096 - accuracy: 0.7827 - val_loss: 147.4913 - val_mae: 11.1427 - val_accuracy: 0.6851\n"
          ],
          "name": "stdout"
        }
      ]
    },
    {
      "cell_type": "code",
      "metadata": {
        "id": "jKk9_Bl4nDKh"
      },
      "source": [
        "model.save(\"facial_features_model.h5\")"
      ],
      "execution_count": null,
      "outputs": []
    },
    {
      "cell_type": "code",
      "metadata": {
        "id": "7aurrYiUwlJQ",
        "colab": {
          "base_uri": "https://localhost:8080/",
          "height": 195
        },
        "outputId": "39f8d2ea-7800-491a-c4bc-0a58e5556791"
      },
      "source": [
        "test.shape\n",
        "test.head()"
      ],
      "execution_count": null,
      "outputs": [
        {
          "output_type": "execute_result",
          "data": {
            "text/html": [
              "<div>\n",
              "<style scoped>\n",
              "    .dataframe tbody tr th:only-of-type {\n",
              "        vertical-align: middle;\n",
              "    }\n",
              "\n",
              "    .dataframe tbody tr th {\n",
              "        vertical-align: top;\n",
              "    }\n",
              "\n",
              "    .dataframe thead th {\n",
              "        text-align: right;\n",
              "    }\n",
              "</style>\n",
              "<table border=\"1\" class=\"dataframe\">\n",
              "  <thead>\n",
              "    <tr style=\"text-align: right;\">\n",
              "      <th></th>\n",
              "      <th>ImageId</th>\n",
              "      <th>Image</th>\n",
              "    </tr>\n",
              "  </thead>\n",
              "  <tbody>\n",
              "    <tr>\n",
              "      <th>0</th>\n",
              "      <td>1</td>\n",
              "      <td>182 183 182 182 180 180 176 169 156 137 124 10...</td>\n",
              "    </tr>\n",
              "    <tr>\n",
              "      <th>1</th>\n",
              "      <td>2</td>\n",
              "      <td>76 87 81 72 65 59 64 76 69 42 31 38 49 58 58 4...</td>\n",
              "    </tr>\n",
              "    <tr>\n",
              "      <th>2</th>\n",
              "      <td>3</td>\n",
              "      <td>177 176 174 170 169 169 168 166 166 166 161 14...</td>\n",
              "    </tr>\n",
              "    <tr>\n",
              "      <th>3</th>\n",
              "      <td>4</td>\n",
              "      <td>176 174 174 175 174 174 176 176 175 171 165 15...</td>\n",
              "    </tr>\n",
              "    <tr>\n",
              "      <th>4</th>\n",
              "      <td>5</td>\n",
              "      <td>50 47 44 101 144 149 120 58 48 42 35 35 37 39 ...</td>\n",
              "    </tr>\n",
              "  </tbody>\n",
              "</table>\n",
              "</div>"
            ],
            "text/plain": [
              "   ImageId                                              Image\n",
              "0        1  182 183 182 182 180 180 176 169 156 137 124 10...\n",
              "1        2  76 87 81 72 65 59 64 76 69 42 31 38 49 58 58 4...\n",
              "2        3  177 176 174 170 169 169 168 166 166 166 161 14...\n",
              "3        4  176 174 174 175 174 174 176 176 175 171 165 15...\n",
              "4        5  50 47 44 101 144 149 120 58 48 42 35 35 37 39 ..."
            ]
          },
          "metadata": {
            "tags": []
          },
          "execution_count": 26
        }
      ]
    },
    {
      "cell_type": "code",
      "metadata": {
        "id": "LEgnJiUdwycr",
        "colab": {
          "base_uri": "https://localhost:8080/"
        },
        "outputId": "9f19943f-2b45-4b84-8f40-3d0514fce82b"
      },
      "source": [
        "y_test = test\n",
        "print(y_test[\"Image\"])\n",
        "test = y_test[\"Image\"]\n",
        "testimages = []\n",
        "for i in range(0,1783):\n",
        "    img = train[\"Image\"][i].split(\" \")\n",
        "    img = ['0' if x ==\" \" else x for x in img]\n",
        "    testimages.append(img)\n",
        "testimages = np.array(testimages,dtype=\"float\")"
      ],
      "execution_count": null,
      "outputs": [
        {
          "output_type": "stream",
          "text": [
            "0       182 183 182 182 180 180 176 169 156 137 124 10...\n",
            "1       76 87 81 72 65 59 64 76 69 42 31 38 49 58 58 4...\n",
            "2       177 176 174 170 169 169 168 166 166 166 161 14...\n",
            "3       176 174 174 175 174 174 176 176 175 171 165 15...\n",
            "4       50 47 44 101 144 149 120 58 48 42 35 35 37 39 ...\n",
            "                              ...                        \n",
            "1778    101 101 101 100 100 97 97 98 102 149 214 206 1...\n",
            "1779    201 191 171 158 145 140 136 130 123 115 108 10...\n",
            "1780    28 28 29 30 31 32 33 34 39 44 46 46 49 54 61 7...\n",
            "1781    104 95 71 57 46 52 65 70 70 67 76 72 69 69 72 ...\n",
            "1782    63 61 64 66 66 64 65 70 69 70 77 83 63 34 22 2...\n",
            "Name: Image, Length: 1783, dtype: object\n"
          ],
          "name": "stdout"
        }
      ]
    },
    {
      "cell_type": "code",
      "metadata": {
        "id": "WwN7TGEFxLjt",
        "colab": {
          "base_uri": "https://localhost:8080/"
        },
        "outputId": "ce4f5af7-b24f-4e55-c02c-a92b1f32cf16"
      },
      "source": [
        "testimages/=255\n",
        "testimages.shape"
      ],
      "execution_count": null,
      "outputs": [
        {
          "output_type": "execute_result",
          "data": {
            "text/plain": [
              "(1783, 9216)"
            ]
          },
          "metadata": {
            "tags": []
          },
          "execution_count": 28
        }
      ]
    },
    {
      "cell_type": "code",
      "metadata": {
        "id": "EaKh481YxRF7",
        "colab": {
          "base_uri": "https://localhost:8080/"
        },
        "outputId": "da159a4c-207d-40fa-d7b5-90066cbf3539"
      },
      "source": [
        "testimages = testimages.reshape(-1,96,96,1)\n",
        "testimages.shape\n",
        "#testimages"
      ],
      "execution_count": null,
      "outputs": [
        {
          "output_type": "execute_result",
          "data": {
            "text/plain": [
              "(1783, 96, 96, 1)"
            ]
          },
          "metadata": {
            "tags": []
          },
          "execution_count": 29
        }
      ]
    },
    {
      "cell_type": "code",
      "metadata": {
        "colab": {
          "base_uri": "https://localhost:8080/"
        },
        "id": "fE8uFN8o0HlD",
        "outputId": "6bd1b41a-e0e5-4726-8663-28ff10a71efe"
      },
      "source": [
        "result = model.predict(testimages,verbose=1)"
      ],
      "execution_count": null,
      "outputs": [
        {
          "output_type": "stream",
          "text": [
            "56/56 [==============================] - 1s 18ms/step\n"
          ],
          "name": "stdout"
        }
      ]
    },
    {
      "cell_type": "code",
      "metadata": {
        "id": "dNb0Yx1r5BMe"
      },
      "source": [
        "def euclidean(face_encoding1, face_encoding2):\n",
        "  ssq= np.sum(np.square(face_encoding1 - face_encoding2))\n",
        "  return np.sqrt(ssq)\n"
      ],
      "execution_count": null,
      "outputs": []
    },
    {
      "cell_type": "code",
      "metadata": {
        "id": "aBfcFeeO7Omn"
      },
      "source": [
        "def preprocess_image(img_str): # taking path of image to be loaded\n",
        "  face_array= extract_image(img)\n",
        "  face_array = cv2.cvtColor(face_array, cv2.COLOR_RGB2GRAY)\n",
        "  face_array= cv2.resize(face_array, (96, 96))\n",
        "  face_array = face_array.reshape(-1,96,96,1)\n",
        "  return face_array"
      ],
      "execution_count": null,
      "outputs": []
    },
    {
      "cell_type": "code",
      "metadata": {
        "id": "IQcxRT9vACAD"
      },
      "source": [
        "tf.autograph.set_verbosity(0)"
      ],
      "execution_count": null,
      "outputs": []
    },
    {
      "cell_type": "code",
      "metadata": {
        "id": "xhyVubdQAetI"
      },
      "source": [
        "img1 = '/content/drive/MyDrive/Facial recognition/chris_hemsworth.jfif'\n",
        "img2 = '/content/drive/MyDrive/Facial recognition/chris_hemsworth_2.jfif'"
      ],
      "execution_count": null,
      "outputs": []
    },
    {
      "cell_type": "code",
      "metadata": {
        "colab": {
          "base_uri": "https://localhost:8080/",
          "height": 322
        },
        "id": "F3-huIQ9GHss",
        "outputId": "4b53e660-a703-44eb-c487-73563a7b37e9"
      },
      "source": [
        "fac1= extract_image(img1)\n",
        "fac1= cv2.cvtColor(fac1, cv2.COLOR_RGB2GRAY)\n",
        "face_array1= cv2.resize(fac1, (96, 96))\n",
        "face_array1 = face_array1/255\n",
        "face_array1 = face_array1.reshape(-1,96,96,1)"
      ],
      "execution_count": null,
      "outputs": [
        {
          "output_type": "stream",
          "text": [
            "WARNING:tensorflow:5 out of the last 65 calls to <function Model.make_predict_function.<locals>.predict_function at 0x7f59e02d5290> triggered tf.function retracing. Tracing is expensive and the excessive number of tracings could be due to (1) creating @tf.function repeatedly in a loop, (2) passing tensors with different shapes, (3) passing Python objects instead of tensors. For (1), please define your @tf.function outside of the loop. For (2), @tf.function has experimental_relax_shapes=True option that relaxes argument shapes that can avoid unnecessary retracing. For (3), please refer to https://www.tensorflow.org/guide/function#controlling_retracing and https://www.tensorflow.org/api_docs/python/tf/function for  more details.\n",
            "WARNING:tensorflow:5 out of the last 11 calls to <function Model.make_predict_function.<locals>.predict_function at 0x7f59e0205710> triggered tf.function retracing. Tracing is expensive and the excessive number of tracings could be due to (1) creating @tf.function repeatedly in a loop, (2) passing tensors with different shapes, (3) passing Python objects instead of tensors. For (1), please define your @tf.function outside of the loop. For (2), @tf.function has experimental_relax_shapes=True option that relaxes argument shapes that can avoid unnecessary retracing. For (3), please refer to https://www.tensorflow.org/guide/function#controlling_retracing and https://www.tensorflow.org/api_docs/python/tf/function for  more details.\n"
          ],
          "name": "stdout"
        },
        {
          "output_type": "display_data",
          "data": {
            "image/png": "[encoded data removed]",
            "text/plain": [
              "<Figure size 432x288 with 1 Axes>"
            ]
          },
          "metadata": {
            "tags": [],
            "needs_background": "light"
          }
        }
      ]
    },
    {
      "cell_type": "code",
      "metadata": {
        "colab": {
          "base_uri": "https://localhost:8080/",
          "height": 372
        },
        "id": "l2Y3V78wGN_f",
        "outputId": "e82fbd14-8176-45db-e10c-f4b2a56e58ee"
      },
      "source": [
        "fac2= extract_image(img2)\n",
        "fac2= cv2.cvtColor(fac2, cv2.COLOR_RGB2GRAY)\n",
        "face_array2= cv2.resize(fac2, (96, 96))\n",
        "face_array2= face_array2/255\n",
        "face_array2 = face_array2.reshape(-1,96,96,1)"
      ],
      "execution_count": null,
      "outputs": [
        {
          "output_type": "stream",
          "text": [
            "WARNING:tensorflow:5 out of the last 11 calls to <function Model.make_predict_function.<locals>.predict_function at 0x7f59e01aa0e0> triggered tf.function retracing. Tracing is expensive and the excessive number of tracings could be due to (1) creating @tf.function repeatedly in a loop, (2) passing tensors with different shapes, (3) passing Python objects instead of tensors. For (1), please define your @tf.function outside of the loop. For (2), @tf.function has experimental_relax_shapes=True option that relaxes argument shapes that can avoid unnecessary retracing. For (3), please refer to https://www.tensorflow.org/guide/function#controlling_retracing and https://www.tensorflow.org/api_docs/python/tf/function for  more details.\n",
            "WARNING:tensorflow:5 out of the last 11 calls to <function Model.make_predict_function.<locals>.predict_function at 0x7f59e01aa0e0> triggered tf.function retracing. Tracing is expensive and the excessive number of tracings could be due to (1) creating @tf.function repeatedly in a loop, (2) passing tensors with different shapes, (3) passing Python objects instead of tensors. For (1), please define your @tf.function outside of the loop. For (2), @tf.function has experimental_relax_shapes=True option that relaxes argument shapes that can avoid unnecessary retracing. For (3), please refer to https://www.tensorflow.org/guide/function#controlling_retracing and https://www.tensorflow.org/api_docs/python/tf/function for  more details.\n",
            "WARNING:tensorflow:6 out of the last 12 calls to <function Model.make_predict_function.<locals>.predict_function at 0x7f59e01aa0e0> triggered tf.function retracing. Tracing is expensive and the excessive number of tracings could be due to (1) creating @tf.function repeatedly in a loop, (2) passing tensors with different shapes, (3) passing Python objects instead of tensors. For (1), please define your @tf.function outside of the loop. For (2), @tf.function has experimental_relax_shapes=True option that relaxes argument shapes that can avoid unnecessary retracing. For (3), please refer to https://www.tensorflow.org/guide/function#controlling_retracing and https://www.tensorflow.org/api_docs/python/tf/function for  more details.\n",
            "WARNING:tensorflow:6 out of the last 11 calls to <function Model.make_predict_function.<locals>.predict_function at 0x7f59e00e79e0> triggered tf.function retracing. Tracing is expensive and the excessive number of tracings could be due to (1) creating @tf.function repeatedly in a loop, (2) passing tensors with different shapes, (3) passing Python objects instead of tensors. For (1), please define your @tf.function outside of the loop. For (2), @tf.function has experimental_relax_shapes=True option that relaxes argument shapes that can avoid unnecessary retracing. For (3), please refer to https://www.tensorflow.org/guide/function#controlling_retracing and https://www.tensorflow.org/api_docs/python/tf/function for  more details.\n",
            "WARNING:tensorflow:6 out of the last 11 calls to <function Model.make_predict_function.<locals>.predict_function at 0x7f59e00d08c0> triggered tf.function retracing. Tracing is expensive and the excessive number of tracings could be due to (1) creating @tf.function repeatedly in a loop, (2) passing tensors with different shapes, (3) passing Python objects instead of tensors. For (1), please define your @tf.function outside of the loop. For (2), @tf.function has experimental_relax_shapes=True option that relaxes argument shapes that can avoid unnecessary retracing. For (3), please refer to https://www.tensorflow.org/guide/function#controlling_retracing and https://www.tensorflow.org/api_docs/python/tf/function for  more details.\n"
          ],
          "name": "stdout"
        },
        {
          "output_type": "display_data",
          "data": {
            "image/png": "[encoded data removed]",
            "text/plain": [
              "<Figure size 432x288 with 1 Axes>"
            ]
          },
          "metadata": {
            "tags": [],
            "needs_background": "light"
          }
        }
      ]
    },
    {
      "cell_type": "code",
      "metadata": {
        "id": "WSnRCUMxCfz-"
      },
      "source": [
        "enc1= model.predict(face_array1)"
      ],
      "execution_count": null,
      "outputs": []
    },
    {
      "cell_type": "code",
      "metadata": {
        "id": "CZBR9EpZHBCd"
      },
      "source": [
        "enc2= model.predict(face_array2)"
      ],
      "execution_count": null,
      "outputs": []
    },
    {
      "cell_type": "code",
      "metadata": {
        "id": "uxnS67a9HFh-"
      },
      "source": [
        "diff = euclidean(enc1, enc2)"
      ],
      "execution_count": null,
      "outputs": []
    },
    {
      "cell_type": "code",
      "metadata": {
        "colab": {
          "base_uri": "https://localhost:8080/"
        },
        "id": "NpIUdajEHL8q",
        "outputId": "f6b22e71-3eb2-401d-809f-c3646904dd91"
      },
      "source": [
        "print(diff)"
      ],
      "execution_count": null,
      "outputs": [
        {
          "output_type": "stream",
          "text": [
            "8.268144\n"
          ],
          "name": "stdout"
        }
      ]
    },
    {
      "cell_type": "code",
      "metadata": {
        "id": "a_tND-A4HN-E"
      },
      "source": [
        "img3= '/content/drive/MyDrive/Facial recognition/chris_evans.jfif'"
      ],
      "execution_count": null,
      "outputs": []
    },
    {
      "cell_type": "code",
      "metadata": {
        "colab": {
          "base_uri": "https://localhost:8080/",
          "height": 355
        },
        "id": "jp9TXZntIcbP",
        "outputId": "d66026ca-f5f5-4f4b-97cb-794cd97c19a5"
      },
      "source": [
        "fac3= extract_image(img3)\n",
        "fac3= cv2.cvtColor(fac3, cv2.COLOR_RGB2GRAY)\n",
        "face_array3= cv2.resize(fac3, (96, 96))\n",
        "face_array3= face_array3/255\n",
        "face_array3 = face_array3.reshape(-1,96,96,1)"
      ],
      "execution_count": null,
      "outputs": [
        {
          "output_type": "stream",
          "text": [
            "WARNING:tensorflow:5 out of the last 12 calls to <function Model.make_predict_function.<locals>.predict_function at 0x7f142adf2050> triggered tf.function retracing. Tracing is expensive and the excessive number of tracings could be due to (1) creating @tf.function repeatedly in a loop, (2) passing tensors with different shapes, (3) passing Python objects instead of tensors. For (1), please define your @tf.function outside of the loop. For (2), @tf.function has experimental_relax_shapes=True option that relaxes argument shapes that can avoid unnecessary retracing. For (3), please refer to https://www.tensorflow.org/guide/function#controlling_retracing and https://www.tensorflow.org/api_docs/python/tf/function for  more details.\n",
            "WARNING:tensorflow:6 out of the last 13 calls to <function Model.make_predict_function.<locals>.predict_function at 0x7f142adf2050> triggered tf.function retracing. Tracing is expensive and the excessive number of tracings could be due to (1) creating @tf.function repeatedly in a loop, (2) passing tensors with different shapes, (3) passing Python objects instead of tensors. For (1), please define your @tf.function outside of the loop. For (2), @tf.function has experimental_relax_shapes=True option that relaxes argument shapes that can avoid unnecessary retracing. For (3), please refer to https://www.tensorflow.org/guide/function#controlling_retracing and https://www.tensorflow.org/api_docs/python/tf/function for  more details.\n",
            "WARNING:tensorflow:5 out of the last 11 calls to <function Model.make_predict_function.<locals>.predict_function at 0x7f1424e5e950> triggered tf.function retracing. Tracing is expensive and the excessive number of tracings could be due to (1) creating @tf.function repeatedly in a loop, (2) passing tensors with different shapes, (3) passing Python objects instead of tensors. For (1), please define your @tf.function outside of the loop. For (2), @tf.function has experimental_relax_shapes=True option that relaxes argument shapes that can avoid unnecessary retracing. For (3), please refer to https://www.tensorflow.org/guide/function#controlling_retracing and https://www.tensorflow.org/api_docs/python/tf/function for  more details.\n",
            "WARNING:tensorflow:6 out of the last 12 calls to <function Model.make_predict_function.<locals>.predict_function at 0x7f1424df9c20> triggered tf.function retracing. Tracing is expensive and the excessive number of tracings could be due to (1) creating @tf.function repeatedly in a loop, (2) passing tensors with different shapes, (3) passing Python objects instead of tensors. For (1), please define your @tf.function outside of the loop. For (2), @tf.function has experimental_relax_shapes=True option that relaxes argument shapes that can avoid unnecessary retracing. For (3), please refer to https://www.tensorflow.org/guide/function#controlling_retracing and https://www.tensorflow.org/api_docs/python/tf/function for  more details.\n"
          ],
          "name": "stdout"
        },
        {
          "output_type": "display_data",
          "data": {
            "image/png": "[encoded data removed]",
            "text/plain": [
              "<Figure size 432x288 with 1 Axes>"
            ]
          },
          "metadata": {
            "tags": [],
            "needs_background": "light"
          }
        }
      ]
    },
    {
      "cell_type": "code",
      "metadata": {
        "id": "BehxYd5_Imia"
      },
      "source": [
        "enc3= model.predict(face_array3)"
      ],
      "execution_count": null,
      "outputs": []
    },
    {
      "cell_type": "code",
      "metadata": {
        "colab": {
          "base_uri": "https://localhost:8080/"
        },
        "id": "1mbfkNEhNPAe",
        "outputId": "0c35e7ad-e639-47d1-a2d6-02772d8134d5"
      },
      "source": [
        "diff2 = euclidean(enc1, enc3)\n",
        "print(diff2)"
      ],
      "execution_count": null,
      "outputs": [
        {
          "output_type": "stream",
          "text": [
            "8.5584755\n"
          ],
          "name": "stdout"
        }
      ]
    },
    {
      "cell_type": "code",
      "metadata": {
        "id": "uCsV_FXLI0-b"
      },
      "source": [
        "img4= '/content/drive/MyDrive/Facial recognition/romanoff.jpg'"
      ],
      "execution_count": null,
      "outputs": []
    },
    {
      "cell_type": "code",
      "metadata": {
        "colab": {
          "base_uri": "https://localhost:8080/",
          "height": 339
        },
        "id": "VqXVkA0mJN5d",
        "outputId": "4641dadc-7b02-4292-87e6-ca5c7fa708c9"
      },
      "source": [
        "fac4= extract_image(img4)\n",
        "fac4= cv2.cvtColor(fac4, cv2.COLOR_RGB2GRAY)\n",
        "face_array4= cv2.resize(fac4, (96, 96))\n",
        "face_array4= face_array4/255\n",
        "face_array4 = face_array4.reshape(-1,96,96,1)"
      ],
      "execution_count": null,
      "outputs": [
        {
          "output_type": "stream",
          "text": [
            "WARNING:tensorflow:6 out of the last 11 calls to <function Model.make_predict_function.<locals>.predict_function at 0x7f142d851ef0> triggered tf.function retracing. Tracing is expensive and the excessive number of tracings could be due to (1) creating @tf.function repeatedly in a loop, (2) passing tensors with different shapes, (3) passing Python objects instead of tensors. For (1), please define your @tf.function outside of the loop. For (2), @tf.function has experimental_relax_shapes=True option that relaxes argument shapes that can avoid unnecessary retracing. For (3), please refer to https://www.tensorflow.org/guide/function#controlling_retracing and https://www.tensorflow.org/api_docs/python/tf/function for  more details.\n",
            "WARNING:tensorflow:6 out of the last 11 calls to <function Model.make_predict_function.<locals>.predict_function at 0x7f142d851ef0> triggered tf.function retracing. Tracing is expensive and the excessive number of tracings could be due to (1) creating @tf.function repeatedly in a loop, (2) passing tensors with different shapes, (3) passing Python objects instead of tensors. For (1), please define your @tf.function outside of the loop. For (2), @tf.function has experimental_relax_shapes=True option that relaxes argument shapes that can avoid unnecessary retracing. For (3), please refer to https://www.tensorflow.org/guide/function#controlling_retracing and https://www.tensorflow.org/api_docs/python/tf/function for  more details.\n",
            "WARNING:tensorflow:6 out of the last 11 calls to <function Model.make_predict_function.<locals>.predict_function at 0x7f142d851ef0> triggered tf.function retracing. Tracing is expensive and the excessive number of tracings could be due to (1) creating @tf.function repeatedly in a loop, (2) passing tensors with different shapes, (3) passing Python objects instead of tensors. For (1), please define your @tf.function outside of the loop. For (2), @tf.function has experimental_relax_shapes=True option that relaxes argument shapes that can avoid unnecessary retracing. For (3), please refer to https://www.tensorflow.org/guide/function#controlling_retracing and https://www.tensorflow.org/api_docs/python/tf/function for  more details.\n"
          ],
          "name": "stdout"
        },
        {
          "output_type": "display_data",
          "data": {
            "image/png": "[encoded data removed]",
            "text/plain": [
              "<Figure size 432x288 with 1 Axes>"
            ]
          },
          "metadata": {
            "tags": [],
            "needs_background": "light"
          }
        }
      ]
    },
    {
      "cell_type": "code",
      "metadata": {
        "id": "lfSclKpUJYBs"
      },
      "source": [
        "enc4= model.predict(face_array4)"
      ],
      "execution_count": null,
      "outputs": []
    },
    {
      "cell_type": "code",
      "metadata": {
        "id": "ab7Q7v5-JfjP"
      },
      "source": [
        "diff3 = euclidean(enc1, enc4)"
      ],
      "execution_count": null,
      "outputs": []
    },
    {
      "cell_type": "code",
      "metadata": {
        "colab": {
          "base_uri": "https://localhost:8080/"
        },
        "id": "2ee8dTagJkp3",
        "outputId": "7f9be78b-29e3-461f-9ba0-654065dcabef"
      },
      "source": [
        "print(diff3)"
      ],
      "execution_count": null,
      "outputs": [
        {
          "output_type": "stream",
          "text": [
            "16.830315\n"
          ],
          "name": "stdout"
        }
      ]
    },
    {
      "cell_type": "code",
      "metadata": {
        "id": "pIA5yGVkJm7W"
      },
      "source": [
        "threshold = 9.0"
      ],
      "execution_count": null,
      "outputs": []
    },
    {
      "cell_type": "code",
      "metadata": {
        "id": "0T3EDjqtOKkA"
      },
      "source": [
        "import glob\n",
        "import os\n",
        "import shutil"
      ],
      "execution_count": null,
      "outputs": []
    },
    {
      "cell_type": "code",
      "metadata": {
        "colab": {
          "base_uri": "https://localhost:8080/",
          "height": 35
        },
        "id": "yf71IyyjOMAh",
        "outputId": "8763f95b-da8d-4cd1-d37f-7dc289bf139c"
      },
      "source": [
        "shutil.copy(img1, \"/content/drive/MyDrive/Facial recognition/match\")"
      ],
      "execution_count": null,
      "outputs": [
        {
          "output_type": "execute_result",
          "data": {
            "application/vnd.google.colaboratory.intrinsic+json": {
              "type": "string"
            },
            "text/plain": [
              "'/content/drive/MyDrive/Facial recognition/match/chris_hemsworth.jfif'"
            ]
          },
          "metadata": {
            "tags": []
          },
          "execution_count": 192
        }
      ]
    },
    {
      "cell_type": "code",
      "metadata": {
        "id": "xqI0XZkfOt5N"
      },
      "source": [
        "if diff<= threshold:\n",
        "  shutil.copy(img2, \"/content/drive/MyDrive/Facial recognition/match\")\n",
        "else:\n",
        "  shutil.copy(img2, \"/content/drive/MyDrive/Facial recognition/Different\")"
      ],
      "execution_count": null,
      "outputs": []
    },
    {
      "cell_type": "code",
      "metadata": {
        "id": "kCOuxL9NNpWE"
      },
      "source": [
        "if diff2 <= threshold:\n",
        "  shutil.copy(img3, \"/content/drive/MyDrive/Facial recognition/match\")\n",
        "else:\n",
        "  shutil.copy(img3, \"/content/drive/MyDrive/Facial recognition/Different\")"
      ],
      "execution_count": null,
      "outputs": []
    },
    {
      "cell_type": "code",
      "metadata": {
        "id": "uuQYeg9dPA-z"
      },
      "source": [
        "if diff3<= threshold:\n",
        "  shutil.copy(img4, \"/content/drive/MyDrive/Facial recognition/match\")\n",
        "else:\n",
        "  shutil.copy(img4, \"/content/drive/MyDrive/Facial recognition/Different\")"
      ],
      "execution_count": null,
      "outputs": []
    },
    {
      "cell_type": "code",
      "metadata": {
        "id": "EKABxpHk41VP"
      },
      "source": [
        ""
      ],
      "execution_count": null,
      "outputs": []
    }
  ]
}